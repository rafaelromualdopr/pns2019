{
 "cells": [
  {
   "cell_type": "code",
   "execution_count": 1,
   "metadata": {},
   "outputs": [
    {
     "name": "stderr",
     "output_type": "stream",
     "text": [
      "C:\\Users\\rafae\\AppData\\Roaming\\Python\\Python311\\site-packages\\pandas\\core\\arrays\\masked.py:60: UserWarning: Pandas requires version '1.3.6' or newer of 'bottleneck' (version '1.3.5' currently installed).\n",
      "  from pandas.core import (\n"
     ]
    }
   ],
   "source": [
    "# Imports\n",
    "import pandas as pd\n",
    "import matplotlib.pyplot as plt\n",
    "from matplotlib import pyplot as plt\n",
    "from tabulate import tabulate\n",
    "import numpy as np\n",
    "import seaborn as sns\n",
    "import time"
   ]
  },
  {
   "cell_type": "code",
   "execution_count": 2,
   "metadata": {},
   "outputs": [],
   "source": [
    "#imports 2\n",
    "from sklearn.model_selection import train_test_split\n",
    "from sklearn.ensemble import RandomForestClassifier\n",
    "from sklearn.tree import DecisionTreeClassifier\n",
    "from imblearn.under_sampling import RandomUnderSampler\n",
    "from sklearn.metrics import precision_score\n",
    "from sklearn.metrics import confusion_matrix\n",
    "from sklearn.metrics import recall_score\n"
   ]
  },
  {
   "cell_type": "code",
   "execution_count": 3,
   "metadata": {},
   "outputs": [],
   "source": [
    "df = pd.read_csv(\"base_sem_outliers.csv\")\n",
    "df.drop(columns=['Unnamed: 0'], inplace=True)\n",
    "df.drop(columns=['N00101'])\n",
    "df.drop(columns=['VDF001'], inplace=True)\n",
    "df.drop(columns=['A002010'], inplace=True)\n",
    "df.drop(columns=['A003010'], inplace=True)\n",
    "df.drop(columns=['A004010'], inplace=True)\n",
    "df.drop(columns=['M01501'], inplace=True)"
   ]
  },
  {
   "cell_type": "code",
   "execution_count": 4,
   "metadata": {},
   "outputs": [
    {
     "data": {
      "text/plain": [
       "Index(['C006', 'M01401', 'E01602', 'E017', 'D00901', 'A001', 'J007', 'Q11006',\n",
       "       'N00101', 'P034', 'P027', 'J01101', 'J014', 'N010', 'N011', 'N012',\n",
       "       'N013', 'N014', 'N015', 'N016', 'N017', 'N018', 'J001', 'J00101',\n",
       "       'J002', 'P006', 'P00901', 'P01101', 'P013', 'P015', 'P02001', 'P01601',\n",
       "       'P018', 'P02002', 'P023', 'P02501', 'P02602', 'P02601', 'E001', 'P050',\n",
       "       'Q092', 'IMC'],\n",
       "      dtype='object')"
      ]
     },
     "execution_count": 4,
     "metadata": {},
     "output_type": "execute_result"
    }
   ],
   "source": [
    "df.columns"
   ]
  },
  {
   "cell_type": "code",
   "execution_count": 5,
   "metadata": {},
   "outputs": [],
   "source": [
    "# Função para encontrar a moda de cada linha e manter apenas uma resposta\n",
    "def mais_comum(row):\n",
    "    moda = row.mode().iloc[0]  # Obtém a moda da linha\n",
    "    return moda"
   ]
  },
  {
   "cell_type": "code",
   "execution_count": 28,
   "metadata": {},
   "outputs": [],
   "source": [
    "# Selecionando apenas as colunas que você deseja processar\n",
    "colunas_resposta = ['J007','Q11006']\n",
    "df_resposta = df[colunas_resposta]"
   ]
  },
  {
   "cell_type": "code",
   "execution_count": 29,
   "metadata": {},
   "outputs": [
    {
     "name": "stdout",
     "output_type": "stream",
     "text": [
      "Index(['C006', 'M01401', 'E01602', 'E017', 'D00901', 'A001', 'P034', 'P027',\n",
      "       'J002', 'P02601', 'E001', 'P050', 'Q092', 'IMC',\n",
      "       'PENSAMENTOS_NEGATIVOS', 'CARNES', 'ALIMENTOS_PREJUDICIAIS',\n",
      "       'ALIMENTOS_SAUDAVEIS', 'ESTADO_SAUDE', 'CONSULTA_MEDICA'],\n",
      "      dtype='object')\n"
     ]
    }
   ],
   "source": [
    "# Aplicando a função a cada linha do DataFrame das respostas\n",
    "df['CONSULTA_MEDICA'] = df_resposta.apply(mais_comum, axis=1)\n",
    "# Removendo as colunas antigas\n",
    "df = df.drop(colunas_resposta, axis=1)\n",
    "\n",
    "print(df.columns)"
   ]
  },
  {
   "cell_type": "code",
   "execution_count": 21,
   "metadata": {},
   "outputs": [
    {
     "data": {
      "text/plain": [
       "Index(['C006', 'M01401', 'E01602', 'E017', 'D00901', 'A001', 'J007', 'Q11006',\n",
       "       'P034', 'P027', 'J01101', 'J014', 'J002', 'P02601', 'E001', 'P050',\n",
       "       'Q092', 'IMC', 'PENSAMENTOS_NEGATIVOS', 'CARNES',\n",
       "       'ALIMENTOS_PREJUDICIAIS', 'ALIMENTOS_SAUDAVEIS', 'ESTADO_SAUDE'],\n",
       "      dtype='object')"
      ]
     },
     "execution_count": 21,
     "metadata": {},
     "output_type": "execute_result"
    }
   ],
   "source": [
    "df.columns"
   ]
  },
  {
   "cell_type": "code",
   "execution_count": 22,
   "metadata": {},
   "outputs": [
    {
     "data": {
      "text/plain": [
       "(4085, 23)"
      ]
     },
     "execution_count": 22,
     "metadata": {},
     "output_type": "execute_result"
    }
   ],
   "source": [
    "df.shape"
   ]
  },
  {
   "cell_type": "code",
   "execution_count": 32,
   "metadata": {},
   "outputs": [],
   "source": [
    "df.to_csv(\"base_dimensionalidade.csv\")"
   ]
  },
  {
   "cell_type": "code",
   "execution_count": null,
   "metadata": {},
   "outputs": [],
   "source": []
  }
 ],
 "metadata": {
  "kernelspec": {
   "display_name": "base",
   "language": "python",
   "name": "python3"
  },
  "language_info": {
   "codemirror_mode": {
    "name": "ipython",
    "version": 3
   },
   "file_extension": ".py",
   "mimetype": "text/x-python",
   "name": "python",
   "nbconvert_exporter": "python",
   "pygments_lexer": "ipython3",
   "version": "3.11.5"
  }
 },
 "nbformat": 4,
 "nbformat_minor": 2
}
