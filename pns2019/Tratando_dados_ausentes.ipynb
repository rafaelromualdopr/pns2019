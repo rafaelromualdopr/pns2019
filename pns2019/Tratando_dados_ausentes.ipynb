{
 "cells": [
  {
   "cell_type": "code",
   "execution_count": 1,
   "metadata": {},
   "outputs": [
    {
     "name": "stderr",
     "output_type": "stream",
     "text": [
      "C:\\Users\\rafae\\AppData\\Roaming\\Python\\Python311\\site-packages\\pandas\\core\\arrays\\masked.py:60: UserWarning: Pandas requires version '1.3.6' or newer of 'bottleneck' (version '1.3.5' currently installed).\n",
      "  from pandas.core import (\n"
     ]
    }
   ],
   "source": [
    "# Imports\n",
    "import pandas as pd\n",
    "import matplotlib.pyplot as plt\n",
    "from matplotlib import pyplot as plt\n",
    "from tabulate import tabulate\n",
    "import numpy as np\n",
    "import seaborn as sns\n",
    "import time"
   ]
  },
  {
   "cell_type": "code",
   "execution_count": 2,
   "metadata": {},
   "outputs": [],
   "source": [
    "#imports 2\n",
    "from sklearn.model_selection import train_test_split\n",
    "from sklearn.ensemble import RandomForestClassifier\n",
    "from sklearn.tree import DecisionTreeClassifier\n",
    "from imblearn.under_sampling import RandomUnderSampler\n",
    "from sklearn.metrics import precision_score\n",
    "from sklearn.metrics import confusion_matrix\n",
    "from sklearn.metrics import recall_score\n"
   ]
  },
  {
   "cell_type": "markdown",
   "metadata": {},
   "source": [
    "### Funções"
   ]
  },
  {
   "cell_type": "code",
   "execution_count": 3,
   "metadata": {},
   "outputs": [],
   "source": [
    "#FUNÇÃO PARA RECEBER INTERVALOS\n",
    "def definir_bins(*args):\n",
    "    \n",
    "    return bins\n",
    "\n",
    "#FUNÇÃO PARA RECEBER OS VALORES DAS COLUNAS\n",
    "def setar_valores_da_lista(*args):\n",
    "    \n",
    "    return valores\n",
    "\n",
    "#FUNÇÃO PARA SUBSTITUIR OS REGISTROS DAS COLUNAS E DIMINUIR O TOTAL DO \"value_counts\"\n",
    "def processar_coluna(df, nome_coluna):\n",
    "    df[nome_coluna] = df[nome_coluna].astype(float) \n",
    "    bins = definir_bins()  \n",
    "    valores = setar_valores_da_lista()\n",
    "    df[nome_coluna] = pd.cut(df[nome_coluna], bins=bins, labels=valores) \n",
    "    return df\n",
    "\n",
    "\n"
   ]
  },
  {
   "cell_type": "code",
   "execution_count": 87,
   "metadata": {},
   "outputs": [],
   "source": [
    "#função para exibir o valor de valores nulos em cada coluna\n",
    "def exibir_valores(df, nome_coluna):\n",
    "        \n",
    "    # Calcula o número de valores nulos em cada coluna\n",
    "    registros_salario = df[nome_coluna].value_counts()\n",
    "    \n",
    "    # Filtra as colunas com mais de 3000 valores nulos\n",
    "    registros_under_500 = registros_salario[registros_salario > 50]\n",
    "    \n",
    "    # Exibe o total de valores nulos para as colunas que têm mais de 500 valores nulos\n",
    "    print(\"Total de valores nulos para as colunas com mais de 500 valores nulos:\")\n",
    "    print(registros_under_500)\n",
    "\n",
    "\n"
   ]
  },
  {
   "cell_type": "code",
   "execution_count": 5,
   "metadata": {},
   "outputs": [],
   "source": [
    "#FUNÇÃO DE SUBSTITUIÇÃO DE VALORES NULOS\n",
    "def valor_nulo_proporcao(df, nome_coluna):\n",
    "    # Substituindo os valores nulos de acordo com as proporções\n",
    "    null_indices = df[nome_coluna].isnull()\n",
    "    for value, proportion in replacement_values.items():\n",
    "        num_to_replace = int(null_indices.sum() * proportion)\n",
    "        if num_to_replace > 0:\n",
    "            replace_indices = np.random.choice(null_indices.index[null_indices], num_to_replace, replace=False)\n",
    "            df.loc[replace_indices, nome_coluna] = value\n",
    "    return df        "
   ]
  },
  {
   "cell_type": "code",
   "execution_count": 6,
   "metadata": {},
   "outputs": [],
   "source": [
    "#função para exibir o valor de valores nulos em cada coluna\n",
    "def exibir_colunas_com_valores_nulos(df):\n",
    "        \n",
    "    # Calcula o número de valores nulos em cada coluna\n",
    "    valores_nulos_por_coluna = df.isnull().sum()\n",
    "    \n",
    "    # Filtra as colunas com mais de 3000 valores nulos\n",
    "    colunas_com_menos_de_700_nulos = valores_nulos_por_coluna[valores_nulos_por_coluna > 1]\n",
    "    \n",
    "    # Exibe o total de valores nulos para as colunas que têm mais de 3000 valores nulos\n",
    "    print(\"Total de valores nulos para as colunas com valores nulos:\")\n",
    "    print(colunas_com_menos_de_700_nulos)\n",
    "\n"
   ]
  },
  {
   "cell_type": "code",
   "execution_count": 7,
   "metadata": {},
   "outputs": [],
   "source": [
    "def plotar_distribuicao_percentual(df, coluna):\n",
    "    # Calcula a distribuição percentual de cada valor na coluna especificada\n",
    "    distribuicao = df[coluna].value_counts(normalize=True) * 100\n",
    "    \n",
    "    # Plota o gráfico da distribuição percentual\n",
    "    distribuicao.plot(kind='bar')\n",
    "    plt.title(f'Distribuição Percentual da Coluna {coluna}')\n",
    "    plt.xlabel('Valores')\n",
    "    plt.ylabel('Porcentagem')\n",
    "    plt.show()"
   ]
  },
  {
   "cell_type": "markdown",
   "metadata": {},
   "source": [
    "### Importando a Base"
   ]
  },
  {
   "cell_type": "code",
   "execution_count": 8,
   "metadata": {},
   "outputs": [],
   "source": [
    "df = pd.read_csv(\"base_balanceada\")"
   ]
  },
  {
   "cell_type": "code",
   "execution_count": 9,
   "metadata": {},
   "outputs": [
    {
     "data": {
      "text/html": [
       "<div>\n",
       "<style scoped>\n",
       "    .dataframe tbody tr th:only-of-type {\n",
       "        vertical-align: middle;\n",
       "    }\n",
       "\n",
       "    .dataframe tbody tr th {\n",
       "        vertical-align: top;\n",
       "    }\n",
       "\n",
       "    .dataframe thead th {\n",
       "        text-align: right;\n",
       "    }\n",
       "</style>\n",
       "<table border=\"1\" class=\"dataframe\">\n",
       "  <thead>\n",
       "    <tr style=\"text-align: right;\">\n",
       "      <th></th>\n",
       "      <th>C006</th>\n",
       "      <th>M01401</th>\n",
       "      <th>M01501</th>\n",
       "      <th>E01602</th>\n",
       "      <th>VDF001</th>\n",
       "      <th>E017</th>\n",
       "      <th>D00901</th>\n",
       "      <th>A001</th>\n",
       "      <th>A002010</th>\n",
       "      <th>A003010</th>\n",
       "      <th>...</th>\n",
       "      <th>P01601</th>\n",
       "      <th>P018</th>\n",
       "      <th>P02002</th>\n",
       "      <th>P023</th>\n",
       "      <th>P02501</th>\n",
       "      <th>P02602</th>\n",
       "      <th>P02601</th>\n",
       "      <th>E001</th>\n",
       "      <th>P050</th>\n",
       "      <th>Q092</th>\n",
       "    </tr>\n",
       "  </thead>\n",
       "  <tbody>\n",
       "    <tr>\n",
       "      <th>0</th>\n",
       "      <td>2.0</td>\n",
       "      <td>3.0</td>\n",
       "      <td>3.0</td>\n",
       "      <td>20000.0</td>\n",
       "      <td>2.0</td>\n",
       "      <td>40.0</td>\n",
       "      <td>13.0</td>\n",
       "      <td>2.0</td>\n",
       "      <td>1.0</td>\n",
       "      <td>2.0</td>\n",
       "      <td>...</td>\n",
       "      <td>1.0</td>\n",
       "      <td>2.0</td>\n",
       "      <td>0.0</td>\n",
       "      <td>0.0</td>\n",
       "      <td>0.0</td>\n",
       "      <td>1.0</td>\n",
       "      <td>2.0</td>\n",
       "      <td>1.0</td>\n",
       "      <td>3.0</td>\n",
       "      <td>1.0</td>\n",
       "    </tr>\n",
       "    <tr>\n",
       "      <th>1</th>\n",
       "      <td>2.0</td>\n",
       "      <td>0.0</td>\n",
       "      <td>3.0</td>\n",
       "      <td>NaN</td>\n",
       "      <td>2.0</td>\n",
       "      <td>NaN</td>\n",
       "      <td>NaN</td>\n",
       "      <td>1.0</td>\n",
       "      <td>2.0</td>\n",
       "      <td>1.0</td>\n",
       "      <td>...</td>\n",
       "      <td>4.0</td>\n",
       "      <td>4.0</td>\n",
       "      <td>0.0</td>\n",
       "      <td>0.0</td>\n",
       "      <td>0.0</td>\n",
       "      <td>0.0</td>\n",
       "      <td>4.0</td>\n",
       "      <td>2.0</td>\n",
       "      <td>3.0</td>\n",
       "      <td>1.0</td>\n",
       "    </tr>\n",
       "    <tr>\n",
       "      <th>2</th>\n",
       "      <td>2.0</td>\n",
       "      <td>3.0</td>\n",
       "      <td>2.0</td>\n",
       "      <td>2000.0</td>\n",
       "      <td>2.0</td>\n",
       "      <td>30.0</td>\n",
       "      <td>10.0</td>\n",
       "      <td>1.0</td>\n",
       "      <td>1.0</td>\n",
       "      <td>1.0</td>\n",
       "      <td>...</td>\n",
       "      <td>6.0</td>\n",
       "      <td>7.0</td>\n",
       "      <td>0.0</td>\n",
       "      <td>7.0</td>\n",
       "      <td>5.0</td>\n",
       "      <td>0.0</td>\n",
       "      <td>4.0</td>\n",
       "      <td>2.0</td>\n",
       "      <td>3.0</td>\n",
       "      <td>1.0</td>\n",
       "    </tr>\n",
       "    <tr>\n",
       "      <th>3</th>\n",
       "      <td>2.0</td>\n",
       "      <td>3.0</td>\n",
       "      <td>1.0</td>\n",
       "      <td>3001.0</td>\n",
       "      <td>2.0</td>\n",
       "      <td>50.0</td>\n",
       "      <td>12.0</td>\n",
       "      <td>2.0</td>\n",
       "      <td>1.0</td>\n",
       "      <td>3.0</td>\n",
       "      <td>...</td>\n",
       "      <td>7.0</td>\n",
       "      <td>4.0</td>\n",
       "      <td>0.0</td>\n",
       "      <td>0.0</td>\n",
       "      <td>0.0</td>\n",
       "      <td>0.0</td>\n",
       "      <td>4.0</td>\n",
       "      <td>1.0</td>\n",
       "      <td>3.0</td>\n",
       "      <td>1.0</td>\n",
       "    </tr>\n",
       "    <tr>\n",
       "      <th>4</th>\n",
       "      <td>2.0</td>\n",
       "      <td>3.0</td>\n",
       "      <td>2.0</td>\n",
       "      <td>NaN</td>\n",
       "      <td>2.0</td>\n",
       "      <td>NaN</td>\n",
       "      <td>10.0</td>\n",
       "      <td>1.0</td>\n",
       "      <td>1.0</td>\n",
       "      <td>1.0</td>\n",
       "      <td>...</td>\n",
       "      <td>3.0</td>\n",
       "      <td>7.0</td>\n",
       "      <td>2.0</td>\n",
       "      <td>5.0</td>\n",
       "      <td>2.0</td>\n",
       "      <td>0.0</td>\n",
       "      <td>2.0</td>\n",
       "      <td>2.0</td>\n",
       "      <td>3.0</td>\n",
       "      <td>1.0</td>\n",
       "    </tr>\n",
       "    <tr>\n",
       "      <th>...</th>\n",
       "      <td>...</td>\n",
       "      <td>...</td>\n",
       "      <td>...</td>\n",
       "      <td>...</td>\n",
       "      <td>...</td>\n",
       "      <td>...</td>\n",
       "      <td>...</td>\n",
       "      <td>...</td>\n",
       "      <td>...</td>\n",
       "      <td>...</td>\n",
       "      <td>...</td>\n",
       "      <td>...</td>\n",
       "      <td>...</td>\n",
       "      <td>...</td>\n",
       "      <td>...</td>\n",
       "      <td>...</td>\n",
       "      <td>...</td>\n",
       "      <td>...</td>\n",
       "      <td>...</td>\n",
       "      <td>...</td>\n",
       "      <td>...</td>\n",
       "    </tr>\n",
       "    <tr>\n",
       "      <th>4553</th>\n",
       "      <td>2.0</td>\n",
       "      <td>1.0</td>\n",
       "      <td>2.0</td>\n",
       "      <td>998.0</td>\n",
       "      <td>2.0</td>\n",
       "      <td>36.0</td>\n",
       "      <td>10.0</td>\n",
       "      <td>1.0</td>\n",
       "      <td>2.0</td>\n",
       "      <td>3.0</td>\n",
       "      <td>...</td>\n",
       "      <td>0.0</td>\n",
       "      <td>1.0</td>\n",
       "      <td>0.0</td>\n",
       "      <td>1.0</td>\n",
       "      <td>7.0</td>\n",
       "      <td>0.0</td>\n",
       "      <td>3.0</td>\n",
       "      <td>1.0</td>\n",
       "      <td>3.0</td>\n",
       "      <td>2.0</td>\n",
       "    </tr>\n",
       "    <tr>\n",
       "      <th>4554</th>\n",
       "      <td>1.0</td>\n",
       "      <td>1.0</td>\n",
       "      <td>0.0</td>\n",
       "      <td>1200.0</td>\n",
       "      <td>2.0</td>\n",
       "      <td>60.0</td>\n",
       "      <td>10.0</td>\n",
       "      <td>1.0</td>\n",
       "      <td>1.0</td>\n",
       "      <td>2.0</td>\n",
       "      <td>...</td>\n",
       "      <td>4.0</td>\n",
       "      <td>1.0</td>\n",
       "      <td>0.0</td>\n",
       "      <td>0.0</td>\n",
       "      <td>7.0</td>\n",
       "      <td>0.0</td>\n",
       "      <td>4.0</td>\n",
       "      <td>1.0</td>\n",
       "      <td>3.0</td>\n",
       "      <td>2.0</td>\n",
       "    </tr>\n",
       "    <tr>\n",
       "      <th>4555</th>\n",
       "      <td>2.0</td>\n",
       "      <td>3.0</td>\n",
       "      <td>0.0</td>\n",
       "      <td>1200.0</td>\n",
       "      <td>2.0</td>\n",
       "      <td>48.0</td>\n",
       "      <td>10.0</td>\n",
       "      <td>1.0</td>\n",
       "      <td>1.0</td>\n",
       "      <td>1.0</td>\n",
       "      <td>...</td>\n",
       "      <td>7.0</td>\n",
       "      <td>3.0</td>\n",
       "      <td>7.0</td>\n",
       "      <td>0.0</td>\n",
       "      <td>0.0</td>\n",
       "      <td>0.0</td>\n",
       "      <td>4.0</td>\n",
       "      <td>1.0</td>\n",
       "      <td>3.0</td>\n",
       "      <td>2.0</td>\n",
       "    </tr>\n",
       "    <tr>\n",
       "      <th>4556</th>\n",
       "      <td>2.0</td>\n",
       "      <td>3.0</td>\n",
       "      <td>0.0</td>\n",
       "      <td>600.0</td>\n",
       "      <td>2.0</td>\n",
       "      <td>50.0</td>\n",
       "      <td>10.0</td>\n",
       "      <td>1.0</td>\n",
       "      <td>4.0</td>\n",
       "      <td>1.0</td>\n",
       "      <td>...</td>\n",
       "      <td>1.0</td>\n",
       "      <td>5.0</td>\n",
       "      <td>2.0</td>\n",
       "      <td>0.0</td>\n",
       "      <td>0.0</td>\n",
       "      <td>0.0</td>\n",
       "      <td>3.0</td>\n",
       "      <td>1.0</td>\n",
       "      <td>3.0</td>\n",
       "      <td>2.0</td>\n",
       "    </tr>\n",
       "    <tr>\n",
       "      <th>4557</th>\n",
       "      <td>1.0</td>\n",
       "      <td>1.0</td>\n",
       "      <td>0.0</td>\n",
       "      <td>2000.0</td>\n",
       "      <td>2.0</td>\n",
       "      <td>60.0</td>\n",
       "      <td>7.0</td>\n",
       "      <td>1.0</td>\n",
       "      <td>1.0</td>\n",
       "      <td>2.0</td>\n",
       "      <td>...</td>\n",
       "      <td>0.0</td>\n",
       "      <td>2.0</td>\n",
       "      <td>7.0</td>\n",
       "      <td>2.0</td>\n",
       "      <td>1.0</td>\n",
       "      <td>0.0</td>\n",
       "      <td>2.0</td>\n",
       "      <td>1.0</td>\n",
       "      <td>1.0</td>\n",
       "      <td>2.0</td>\n",
       "    </tr>\n",
       "  </tbody>\n",
       "</table>\n",
       "<p>4558 rows × 48 columns</p>\n",
       "</div>"
      ],
      "text/plain": [
       "      C006  M01401  M01501   E01602  VDF001  E017  D00901  A001  A002010  \\\n",
       "0      2.0     3.0     3.0  20000.0     2.0  40.0    13.0   2.0      1.0   \n",
       "1      2.0     0.0     3.0      NaN     2.0   NaN     NaN   1.0      2.0   \n",
       "2      2.0     3.0     2.0   2000.0     2.0  30.0    10.0   1.0      1.0   \n",
       "3      2.0     3.0     1.0   3001.0     2.0  50.0    12.0   2.0      1.0   \n",
       "4      2.0     3.0     2.0      NaN     2.0   NaN    10.0   1.0      1.0   \n",
       "...    ...     ...     ...      ...     ...   ...     ...   ...      ...   \n",
       "4553   2.0     1.0     2.0    998.0     2.0  36.0    10.0   1.0      2.0   \n",
       "4554   1.0     1.0     0.0   1200.0     2.0  60.0    10.0   1.0      1.0   \n",
       "4555   2.0     3.0     0.0   1200.0     2.0  48.0    10.0   1.0      1.0   \n",
       "4556   2.0     3.0     0.0    600.0     2.0  50.0    10.0   1.0      4.0   \n",
       "4557   1.0     1.0     0.0   2000.0     2.0  60.0     7.0   1.0      1.0   \n",
       "\n",
       "      A003010  ...  P01601  P018  P02002  P023  P02501  P02602  P02601  E001  \\\n",
       "0         2.0  ...     1.0   2.0     0.0   0.0     0.0     1.0     2.0   1.0   \n",
       "1         1.0  ...     4.0   4.0     0.0   0.0     0.0     0.0     4.0   2.0   \n",
       "2         1.0  ...     6.0   7.0     0.0   7.0     5.0     0.0     4.0   2.0   \n",
       "3         3.0  ...     7.0   4.0     0.0   0.0     0.0     0.0     4.0   1.0   \n",
       "4         1.0  ...     3.0   7.0     2.0   5.0     2.0     0.0     2.0   2.0   \n",
       "...       ...  ...     ...   ...     ...   ...     ...     ...     ...   ...   \n",
       "4553      3.0  ...     0.0   1.0     0.0   1.0     7.0     0.0     3.0   1.0   \n",
       "4554      2.0  ...     4.0   1.0     0.0   0.0     7.0     0.0     4.0   1.0   \n",
       "4555      1.0  ...     7.0   3.0     7.0   0.0     0.0     0.0     4.0   1.0   \n",
       "4556      1.0  ...     1.0   5.0     2.0   0.0     0.0     0.0     3.0   1.0   \n",
       "4557      2.0  ...     0.0   2.0     7.0   2.0     1.0     0.0     2.0   1.0   \n",
       "\n",
       "      P050  Q092  \n",
       "0      3.0   1.0  \n",
       "1      3.0   1.0  \n",
       "2      3.0   1.0  \n",
       "3      3.0   1.0  \n",
       "4      3.0   1.0  \n",
       "...    ...   ...  \n",
       "4553   3.0   2.0  \n",
       "4554   3.0   2.0  \n",
       "4555   3.0   2.0  \n",
       "4556   3.0   2.0  \n",
       "4557   1.0   2.0  \n",
       "\n",
       "[4558 rows x 48 columns]"
      ]
     },
     "execution_count": 9,
     "metadata": {},
     "output_type": "execute_result"
    }
   ],
   "source": [
    "df"
   ]
  },
  {
   "cell_type": "code",
   "execution_count": 10,
   "metadata": {},
   "outputs": [
    {
     "data": {
      "text/plain": [
       "0       1.0\n",
       "1       1.0\n",
       "2       1.0\n",
       "3       1.0\n",
       "4       1.0\n",
       "       ... \n",
       "4553    2.0\n",
       "4554    2.0\n",
       "4555    2.0\n",
       "4556    2.0\n",
       "4557    2.0\n",
       "Name: Q092, Length: 4558, dtype: float64"
      ]
     },
     "execution_count": 10,
     "metadata": {},
     "output_type": "execute_result"
    }
   ],
   "source": [
    "df['Q092']"
   ]
  },
  {
   "cell_type": "markdown",
   "metadata": {},
   "source": [
    "### Verificando quantidade de valores nulos"
   ]
  },
  {
   "cell_type": "code",
   "execution_count": 11,
   "metadata": {},
   "outputs": [
    {
     "name": "stdout",
     "output_type": "stream",
     "text": [
      "Total de valores nulos para as colunas com valores nulos:\n",
      "E01602    1481\n",
      "E017      1416\n",
      "D00901     667\n",
      "P00104     106\n",
      "P00404     106\n",
      "dtype: int64\n"
     ]
    }
   ],
   "source": [
    "exibir_colunas_com_valores_nulos(df)"
   ]
  },
  {
   "cell_type": "code",
   "execution_count": 12,
   "metadata": {},
   "outputs": [
    {
     "data": {
      "text/plain": [
       "60000.0"
      ]
     },
     "execution_count": 12,
     "metadata": {},
     "output_type": "execute_result"
    }
   ],
   "source": [
    "df['E01602'].max()"
   ]
  },
  {
   "cell_type": "code",
   "execution_count": 13,
   "metadata": {},
   "outputs": [
    {
     "data": {
      "text/plain": [
       "E01602\n",
       "998.0      294\n",
       "2000.0     200\n",
       "1500.0     191\n",
       "1000.0     179\n",
       "1200.0     178\n",
       "          ... \n",
       "1384.0       1\n",
       "22000.0      1\n",
       "2380.0       1\n",
       "2950.0       1\n",
       "1152.0       1\n",
       "Name: count, Length: 312, dtype: int64"
      ]
     },
     "execution_count": 13,
     "metadata": {},
     "output_type": "execute_result"
    }
   ],
   "source": [
    "df['E01602'].value_counts()"
   ]
  },
  {
   "cell_type": "markdown",
   "metadata": {},
   "source": [
    "### Olhando graficamente colunas especificas"
   ]
  },
  {
   "cell_type": "code",
   "execution_count": 61,
   "metadata": {},
   "outputs": [],
   "source": [
    "valores_peso = df['P00104'].value_counts()"
   ]
  },
  {
   "cell_type": "code",
   "execution_count": 62,
   "metadata": {},
   "outputs": [],
   "source": [
    "valores_altura = df['P00404'].value_counts()"
   ]
  },
  {
   "cell_type": "code",
   "execution_count": 66,
   "metadata": {},
   "outputs": [
    {
     "data": {
      "image/png": "[encoded data removed]",
      "text/plain": [
       "<Figure size 1000x600 with 1 Axes>"
      ]
     },
     "metadata": {},
     "output_type": "display_data"
    }
   ],
   "source": [
    "# Contar valores em 'E01602'\n",
    "value_counts = df['E01602'].value_counts()\n",
    "\n",
    "# Criar um boxplot para verificar outliers\n",
    "plt.figure(figsize=(10, 6))\n",
    "plt.boxplot(valores_peso, vert=False)\n",
    "\n",
    "plt.xlabel('Contagem de Valores')\n",
    "plt.title('Boxplot da Contagem de Valores na Salario')\n",
    "plt.show()"
   ]
  },
  {
   "cell_type": "code",
   "execution_count": 15,
   "metadata": {},
   "outputs": [
    {
     "data": {
      "image/png": "[encoded data removed]",
      "text/plain": [
       "<Figure size 1000x600 with 1 Axes>"
      ]
     },
     "metadata": {},
     "output_type": "display_data"
    }
   ],
   "source": [
    "# Gráfico de Dispersão\n",
    "plt.figure(figsize=(10, 6))\n",
    "plt.scatter(value_counts.index, value_counts.values)\n",
    "\n",
    "plt.xlabel('Categoria')\n",
    "plt.ylabel('Contagem de Valores')\n",
    "plt.title('Gráfico de Dispersão da Contagem de Valores na Coluna E01602')\n",
    "\n",
    "# Adiciona linhas de grade para melhor visualização\n",
    "plt.grid(True)\n",
    "\n",
    "plt.show()"
   ]
  },
  {
   "cell_type": "code",
   "execution_count": 63,
   "metadata": {},
   "outputs": [
    {
     "data": {
      "image/png": "[encoded data removed]",
      "text/plain": [
       "<Figure size 1000x600 with 1 Axes>"
      ]
     },
     "metadata": {},
     "output_type": "display_data"
    }
   ],
   "source": [
    "# Gráfico de Dispersão\n",
    "plt.figure(figsize=(10, 6))\n",
    "plt.scatter(valores_peso.index, valores_peso.values)\n",
    "\n",
    "plt.xlabel('Categoria')\n",
    "plt.ylabel('Contagem de Valores')\n",
    "plt.title('Gráfico de Dispersão da Contagem de Valores')\n",
    "\n",
    "# Adiciona linhas de grade para melhor visualização\n",
    "plt.grid(True)\n",
    "\n",
    "plt.show()"
   ]
  },
  {
   "cell_type": "code",
   "execution_count": 64,
   "metadata": {},
   "outputs": [
    {
     "data": {
      "image/png": "[encoded data removed]",
      "text/plain": [
       "<Figure size 1000x600 with 1 Axes>"
      ]
     },
     "metadata": {},
     "output_type": "display_data"
    }
   ],
   "source": [
    "# Gráfico de Dispersão\n",
    "plt.figure(figsize=(10, 6))\n",
    "plt.scatter(valores_altura.index, valores_altura.values)\n",
    "\n",
    "plt.xlabel('Categoria')\n",
    "plt.ylabel('Contagem de Valores')\n",
    "plt.title('Gráfico de Dispersão da Contagem de Valores')\n",
    "\n",
    "# Adiciona linhas de grade para melhor visualização\n",
    "plt.grid(True)\n",
    "\n",
    "plt.show()"
   ]
  },
  {
   "cell_type": "markdown",
   "metadata": {},
   "source": [
    "### Tratando as colunas especificas com dados nulos"
   ]
  },
  {
   "cell_type": "code",
   "execution_count": 16,
   "metadata": {},
   "outputs": [
    {
     "name": "stdout",
     "output_type": "stream",
     "text": [
      "Desvio Padrão (NumPy): 2901.08\n"
     ]
    }
   ],
   "source": [
    "# Usando NumPy\n",
    "std_dev_numpy = np.std(df['E01602'], ddof=1)  # ddof=1 para amostra\n",
    "print(f\"Desvio Padrão (NumPy): {std_dev_numpy:.2f}\")"
   ]
  },
  {
   "cell_type": "code",
   "execution_count": 17,
   "metadata": {},
   "outputs": [
    {
     "data": {
      "text/plain": [
       "2100.934351641209"
      ]
     },
     "execution_count": 17,
     "metadata": {},
     "output_type": "execute_result"
    }
   ],
   "source": [
    "df['E01602'].mean()"
   ]
  },
  {
   "cell_type": "code",
   "execution_count": 18,
   "metadata": {},
   "outputs": [
    {
     "data": {
      "text/plain": [
       "E01602\n",
       "998.0      294\n",
       "2000.0     200\n",
       "1500.0     191\n",
       "1000.0     179\n",
       "1200.0     178\n",
       "          ... \n",
       "1384.0       1\n",
       "22000.0      1\n",
       "2380.0       1\n",
       "2950.0       1\n",
       "1152.0       1\n",
       "Name: count, Length: 312, dtype: int64"
      ]
     },
     "execution_count": 18,
     "metadata": {},
     "output_type": "execute_result"
    }
   ],
   "source": [
    "df['E01602'].value_counts()"
   ]
  },
  {
   "cell_type": "code",
   "execution_count": 19,
   "metadata": {},
   "outputs": [
    {
     "name": "stdout",
     "output_type": "stream",
     "text": [
      "Total de valores nulos para as colunas com valores nulos:\n",
      "E01602    1481\n",
      "E017      1416\n",
      "D00901     667\n",
      "P00104     106\n",
      "P00404     106\n",
      "dtype: int64\n"
     ]
    }
   ],
   "source": [
    "exibir_colunas_com_valores_nulos(df)"
   ]
  },
  {
   "cell_type": "code",
   "execution_count": 20,
   "metadata": {},
   "outputs": [
    {
     "data": {
      "text/plain": [
       "(4558, 48)"
      ]
     },
     "execution_count": 20,
     "metadata": {},
     "output_type": "execute_result"
    }
   ],
   "source": [
    "df.shape"
   ]
  },
  {
   "cell_type": "markdown",
   "metadata": {},
   "source": [
    "#### Coluna Salario"
   ]
  },
  {
   "cell_type": "code",
   "execution_count": 42,
   "metadata": {},
   "outputs": [
    {
     "name": "stdout",
     "output_type": "stream",
     "text": [
      "E01602\n",
      "2000.0     1018\n",
      "1500.0      717\n",
      "1000.0      296\n",
      "998.0       294\n",
      "1200.0      178\n",
      "           ... \n",
      "1384.0        1\n",
      "22000.0       1\n",
      "2380.0        1\n",
      "2950.0        1\n",
      "1152.0        1\n",
      "Name: count, Length: 312, dtype: int64\n"
     ]
    }
   ],
   "source": [
    "# Definindo os valores de substituição e suas proporções\n",
    "#COLUNA ESCOLARIDADE\n",
    "replacement_values = {2000: 0.4,1500:0.3,1000:0.3}\n",
    " \n",
    "valor_nulo_proporcao(df, 'E01602')\n",
    "\n",
    "print(df['E01602'].value_counts())"
   ]
  },
  {
   "cell_type": "markdown",
   "metadata": {},
   "source": [
    "#### Coluna Horas trabalhadas"
   ]
  },
  {
   "cell_type": "code",
   "execution_count": 22,
   "metadata": {},
   "outputs": [
    {
     "data": {
      "text/plain": [
       "E017\n",
       "40.0    876\n",
       "44.0    527\n",
       "48.0    237\n",
       "30.0    230\n",
       "20.0    198\n",
       "       ... \n",
       "90.0      1\n",
       "17.0      1\n",
       "67.0      1\n",
       "71.0      1\n",
       "11.0      1\n",
       "Name: count, Length: 71, dtype: int64"
      ]
     },
     "execution_count": 22,
     "metadata": {},
     "output_type": "execute_result"
    }
   ],
   "source": [
    "df['E017'].value_counts()"
   ]
  },
  {
   "cell_type": "code",
   "execution_count": 32,
   "metadata": {},
   "outputs": [
    {
     "name": "stdout",
     "output_type": "stream",
     "text": [
      "E017\n",
      "40.0    1274\n",
      "20.0     781\n",
      "48.0     658\n",
      "44.0     527\n",
      "30.0     244\n",
      "        ... \n",
      "90.0       1\n",
      "17.0       1\n",
      "67.0       1\n",
      "71.0       1\n",
      "11.0       1\n",
      "Name: count, Length: 71, dtype: int64\n"
     ]
    }
   ],
   "source": [
    "# Definindo os valores de substituição e suas proporções\n",
    "#COLUNA ESCOLARIDADE\n",
    "replacement_values = {40:0.4, 48:0.3, 30:0.3}\n",
    " \n",
    "valor_nulo_proporcao(df, 'E017')\n",
    "\n",
    "print(df['E017'].value_counts())"
   ]
  },
  {
   "cell_type": "code",
   "execution_count": 56,
   "metadata": {},
   "outputs": [
    {
     "name": "stdout",
     "output_type": "stream",
     "text": [
      "Total de valores nulos para as colunas com valores nulos:\n",
      "P00104    106\n",
      "P00404    106\n",
      "dtype: int64\n"
     ]
    }
   ],
   "source": [
    "exibir_colunas_com_valores_nulos(df)"
   ]
  },
  {
   "cell_type": "markdown",
   "metadata": {},
   "source": [
    "### Coluna Nivel Educação"
   ]
  },
  {
   "cell_type": "code",
   "execution_count": 55,
   "metadata": {},
   "outputs": [
    {
     "name": "stdout",
     "output_type": "stream",
     "text": [
      "D00901\n",
      "10.0    1962\n",
      "12.0    1010\n",
      "7.0      965\n",
      "8.0      235\n",
      "13.0     209\n",
      "11.0     103\n",
      "14.0      39\n",
      "3.0       16\n",
      "15.0      10\n",
      "4.0        6\n",
      "2.0        3\n",
      "Name: count, dtype: int64\n"
     ]
    }
   ],
   "source": [
    "# Definindo os valores de substituição e suas proporções\n",
    "#COLUNA ESCOLARIDADE\n",
    "replacement_values = {8:0.4, 10:0.3, 12:0.3}\n",
    " \n",
    "valor_nulo_proporcao(df, 'D00901')\n",
    "\n",
    "print(df['D00901'].value_counts())"
   ]
  },
  {
   "cell_type": "markdown",
   "metadata": {},
   "source": [
    "#### Coluna Peso E altura"
   ]
  },
  {
   "cell_type": "code",
   "execution_count": 85,
   "metadata": {},
   "outputs": [
    {
     "name": "stdout",
     "output_type": "stream",
     "text": [
      "Total de valores nulos para as colunas com valores nulos:\n",
      "Series([], dtype: int64)\n"
     ]
    }
   ],
   "source": [
    "exibir_colunas_com_valores_nulos(df)"
   ]
  },
  {
   "cell_type": "code",
   "execution_count": 84,
   "metadata": {},
   "outputs": [
    {
     "name": "stdout",
     "output_type": "stream",
     "text": [
      "P00404\n",
      "165.0    362\n",
      "160.0    345\n",
      "170.0    299\n",
      "163.0    200\n",
      "162.0    189\n",
      "        ... \n",
      "139.0      1\n",
      "130.0      1\n",
      "199.0      1\n",
      "198.0      1\n",
      "200.0      1\n",
      "Name: count, Length: 62, dtype: int64\n"
     ]
    }
   ],
   "source": [
    "# Definindo os valores de substituição e suas proporções\n",
    "#COLUNA ESCOLARIDADE\n",
    "replacement_values = {165: 1}\n",
    " \n",
    "valor_nulo_proporcao(df, 'P00404')\n",
    "\n",
    "print(df['P00404'].value_counts())"
   ]
  },
  {
   "cell_type": "code",
   "execution_count": 79,
   "metadata": {},
   "outputs": [
    {
     "data": {
      "text/plain": [
       "P00404\n",
       "160.0    345\n",
       "165.0    320\n",
       "170.0    267\n",
       "163.0    200\n",
       "162.0    189\n",
       "        ... \n",
       "139.0      1\n",
       "130.0      1\n",
       "199.0      1\n",
       "198.0      1\n",
       "200.0      1\n",
       "Name: count, Length: 62, dtype: int64"
      ]
     },
     "execution_count": 79,
     "metadata": {},
     "output_type": "execute_result"
    }
   ],
   "source": [
    "df['P00404'].value_counts()"
   ]
  },
  {
   "cell_type": "code",
   "execution_count": 86,
   "metadata": {},
   "outputs": [],
   "source": [
    "df.to_csv(\"base_nao_nula.csv\")"
   ]
  },
  {
   "cell_type": "code",
   "execution_count": null,
   "metadata": {},
   "outputs": [],
   "source": []
  },
  {
   "cell_type": "code",
   "execution_count": null,
   "metadata": {},
   "outputs": [],
   "source": []
  }
 ],
 "metadata": {
  "kernelspec": {
   "display_name": "base",
   "language": "python",
   "name": "python3"
  },
  "language_info": {
   "codemirror_mode": {
    "name": "ipython",
    "version": 3
   },
   "file_extension": ".py",
   "mimetype": "text/x-python",
   "name": "python",
   "nbconvert_exporter": "python",
   "pygments_lexer": "ipython3",
   "version": "3.11.5"
  }
 },
 "nbformat": 4,
 "nbformat_minor": 2
}
