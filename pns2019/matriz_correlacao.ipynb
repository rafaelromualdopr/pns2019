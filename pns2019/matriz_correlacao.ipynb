{
 "cells": [
  {
   "cell_type": "code",
   "execution_count": 1,
   "metadata": {},
   "outputs": [
    {
     "name": "stderr",
     "output_type": "stream",
     "text": [
      "C:\\Users\\rafae\\AppData\\Roaming\\Python\\Python311\\site-packages\\pandas\\core\\arrays\\masked.py:60: UserWarning: Pandas requires version '1.3.6' or newer of 'bottleneck' (version '1.3.5' currently installed).\n",
      "  from pandas.core import (\n"
     ]
    }
   ],
   "source": [
    "# Imports\n",
    "import pandas as pd\n",
    "import matplotlib.pyplot as plt\n",
    "from matplotlib import pyplot as plt\n",
    "from tabulate import tabulate\n",
    "import numpy as np\n",
    "import seaborn as sns\n",
    "import time"
   ]
  },
  {
   "cell_type": "code",
   "execution_count": 2,
   "metadata": {},
   "outputs": [],
   "source": [
    "#imports 2\n",
    "from sklearn.model_selection import train_test_split\n",
    "from sklearn.ensemble import RandomForestClassifier\n",
    "from sklearn.tree import DecisionTreeClassifier\n",
    "from imblearn.under_sampling import RandomUnderSampler\n",
    "from sklearn.metrics import precision_score\n",
    "from sklearn.metrics import confusion_matrix\n",
    "from sklearn.metrics import recall_score\n"
   ]
  },
  {
   "cell_type": "code",
   "execution_count": 3,
   "metadata": {},
   "outputs": [],
   "source": [
    "df = pd.read_csv(\"base_dimensionalidade.csv\")\n",
    "df.drop(columns=['Unnamed: 0'], inplace=True)"
   ]
  },
  {
   "cell_type": "code",
   "execution_count": 4,
   "metadata": {},
   "outputs": [],
   "source": [
    "train_set, test_set = train_test_split(df, test_size=0.2, random_state=42)"
   ]
  },
  {
   "cell_type": "code",
   "execution_count": 5,
   "metadata": {},
   "outputs": [],
   "source": [
    "X_train = train_set.drop(columns=[\"Q092\"])\n",
    "y_train = train_set[\"Q092\"].copy()"
   ]
  },
  {
   "cell_type": "code",
   "execution_count": 6,
   "metadata": {},
   "outputs": [],
   "source": [
    "X_test = test_set.drop(columns=[\"Q092\"])\n",
    "y_test = test_set[\"Q092\"].copy()"
   ]
  },
  {
   "cell_type": "code",
   "execution_count": 7,
   "metadata": {},
   "outputs": [
    {
     "data": {
      "text/plain": [
       "Index(['C006', 'M01401', 'E01602', 'E017', 'D00901', 'A001', 'P034', 'P027',\n",
       "       'J002', 'P02601', 'E001', 'P050', 'Q092', 'IMC',\n",
       "       'PENSAMENTOS_NEGATIVOS', 'CARNES', 'ALIMENTOS_PREJUDICIAIS',\n",
       "       'ALIMENTOS_SAUDAVEIS', 'ESTADO_SAUDE', 'CONSULTA_MEDICA'],\n",
       "      dtype='object')"
      ]
     },
     "execution_count": 7,
     "metadata": {},
     "output_type": "execute_result"
    }
   ],
   "source": [
    "df.columns"
   ]
  },
  {
   "cell_type": "code",
   "execution_count": 9,
   "metadata": {},
   "outputs": [
    {
     "data": {
      "text/plain": [
       "\"#gera uma matriz de correlação entre as variáveis independentes\\ncov_mat = X_train.corr()\\n#plota um heatmap da matriz, para facilitar a visualização\\nplt.figure(figsize=(200,200))\\nsns.set(font_scale=20)\\nhm = sns.heatmap(cov_mat,\\n                 cbar=True,\\n                 annot=True,\\n                 square=True,\\n                 fmt='.2f',\\n                 annot_kws={'size': 100},\\n                 yticklabels=X_train.columns,\\n                 xticklabels=X_train.columns)\\nplt.title('Covariance matrix showing correlation coefficients')\\nplt.tight_layout()\\nplt.show()\""
      ]
     },
     "execution_count": 9,
     "metadata": {},
     "output_type": "execute_result"
    }
   ],
   "source": [
    "\"\"\"#gera uma matriz de correlação entre as variáveis independentes\n",
    "cov_mat = X_train.corr()\n",
    "#plota um heatmap da matriz, para facilitar a visualização\n",
    "plt.figure(figsize=(200,200))\n",
    "sns.set(font_scale=20)\n",
    "hm = sns.heatmap(cov_mat,\n",
    "                 cbar=True,\n",
    "                 annot=True,\n",
    "                 square=True,\n",
    "                 fmt='.2f',\n",
    "                 annot_kws={'size': 100},\n",
    "                 yticklabels=X_train.columns,\n",
    "                 xticklabels=X_train.columns)\n",
    "plt.title('Covariance matrix showing correlation coefficients')\n",
    "plt.tight_layout()\n",
    "plt.show()\"\"\""
   ]
  },
  {
   "cell_type": "code",
   "execution_count": 14,
   "metadata": {},
   "outputs": [
    {
     "data": {
      "text/plain": [
       "Index(['SEXO', 'FAMILIA_MNT_RUIM', 'SALARIO', 'HORAS', 'ESCOLARIDADE',\n",
       "       'MORADIA', 'ATV_FISICA', 'ALCOOL', 'NAO_TRAB_MTV_SAUDE', 'CONSUMO_SAL',\n",
       "       'TRABALHA', 'FUMA', 'DEPRESSAO', 'IMC', 'PENSAMENTOS_NEGATIVOS',\n",
       "       'CARNES', 'ALIMENTOS_PREJUDICIAIS', 'ALIMENTOS_SAUDAVEIS',\n",
       "       'ESTADO_SAUDE', 'CONSULTA_MEDICA'],\n",
       "      dtype='object')"
      ]
     },
     "execution_count": 14,
     "metadata": {},
     "output_type": "execute_result"
    }
   ],
   "source": [
    "df.columns"
   ]
  },
  {
   "cell_type": "code",
   "execution_count": 13,
   "metadata": {},
   "outputs": [],
   "source": [
    "\"\"\"# Renomeando as colunas\n",
    "df.rename(columns={'J002': 'NAO_TRAB_MTV_SAUDE'}, inplace=True)\n",
    "df.rename(columns={'C006': 'SEXO'}, inplace=True)\n",
    "df.rename(columns={'M01401': 'FAMILIA_MNT_RUIM'}, inplace=True)\n",
    "df.rename(columns={'E01602': 'SALARIO'}, inplace=True)\n",
    "df.rename(columns={'E017': 'HORAS'}, inplace=True)\n",
    "df.rename(columns={'D00901': 'ESCOLARIDADE'}, inplace=True)\n",
    "df.rename(columns={'A001': 'MORADIA'}, inplace=True)\n",
    "df.rename(columns={'P034': 'ATV_FISICA'}, inplace=True)\n",
    "df.rename(columns={'P027': 'ALCOOL'}, inplace=True)\n",
    "df.rename(columns={'P050': 'FUMA'}, inplace=True)\n",
    "df.rename(columns={'P02601': 'CONSUMO_SAL'}, inplace=True)\n",
    "df.rename(columns={'E001': 'TRABALHA'}, inplace=True)\n",
    "df.rename(columns={'Q092': 'DEPRESSAO'}, inplace=True)\"\"\""
   ]
  },
  {
   "cell_type": "code",
   "execution_count": 15,
   "metadata": {},
   "outputs": [],
   "source": [
    "df.to_csv(\"base_dimensionalidade.csv\")"
   ]
  },
  {
   "cell_type": "code",
   "execution_count": 17,
   "metadata": {},
   "outputs": [
    {
     "data": {
      "text/plain": [
       "80.0"
      ]
     },
     "execution_count": 17,
     "metadata": {},
     "output_type": "execute_result"
    }
   ],
   "source": [
    "df['HORAS'].max()"
   ]
  },
  {
   "cell_type": "code",
   "execution_count": null,
   "metadata": {},
   "outputs": [],
   "source": []
  }
 ],
 "metadata": {
  "kernelspec": {
   "display_name": "base",
   "language": "python",
   "name": "python3"
  },
  "language_info": {
   "codemirror_mode": {
    "name": "ipython",
    "version": 3
   },
   "file_extension": ".py",
   "mimetype": "text/x-python",
   "name": "python",
   "nbconvert_exporter": "python",
   "pygments_lexer": "ipython3",
   "version": "3.11.5"
  }
 },
 "nbformat": 4,
 "nbformat_minor": 2
}
