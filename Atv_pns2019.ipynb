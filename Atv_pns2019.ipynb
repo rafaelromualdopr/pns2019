{
  "cells": [
    {
      "cell_type": "code",
      "execution_count": null,
      "metadata": {
        "id": "oxdwP8076I7d",
        "outputId": "df8713ef-d713-4ecd-e3bb-8d4eecbd3ef9"
      },
      "outputs": [
        {
          "name": "stderr",
          "output_type": "stream",
          "text": [
            "C:\\Users\\rafae\\AppData\\Roaming\\Python\\Python311\\site-packages\\pandas\\core\\arrays\\masked.py:60: UserWarning: Pandas requires version '1.3.6' or newer of 'bottleneck' (version '1.3.5' currently installed).\n",
            "  from pandas.core import (\n"
          ]
        }
      ],
      "source": [
        "# Imports\n",
        "import pandas as pd\n",
        "import matplotlib.pyplot as plt\n",
        "from matplotlib import pyplot as plt\n",
        "from tabulate import tabulate\n",
        "import numpy as np\n",
        "import seaborn as sns\n",
        "import time"
      ]
    },
    {
      "cell_type": "code",
      "execution_count": null,
      "metadata": {
        "id": "2yFW8Ofs6I7f"
      },
      "outputs": [],
      "source": [
        "#imports 2\n",
        "from sklearn.model_selection import train_test_split\n",
        "from sklearn.ensemble import RandomForestClassifier\n",
        "from sklearn.tree import DecisionTreeClassifier\n",
        "from imblearn.under_sampling import RandomUnderSampler\n",
        "from sklearn.metrics import precision_score\n",
        "from sklearn.metrics import confusion_matrix\n",
        "from sklearn.metrics import recall_score\n"
      ]
    },
    {
      "cell_type": "code",
      "execution_count": null,
      "metadata": {
        "id": "94DZPgEc6I7g"
      },
      "outputs": [],
      "source": [
        "#Immportando a Base\n",
        "df = pd.read_csv(\"..\\pns2019.csv\")"
      ]
    },
    {
      "cell_type": "code",
      "execution_count": null,
      "metadata": {
        "id": "IK7FBvAc6I7g"
      },
      "outputs": [],
      "source": [
        "#identificar possiveis vazios\n",
        "valores_vazios = [\"?\", \"-\"]\n",
        "df = pd.read_csv('../pns2019.csv', na_values=valores_vazios)\n",
        "\n",
        "df = df.replace({\"?\": np.nan, \"-\": np.nan})"
      ]
    },
    {
      "cell_type": "code",
      "execution_count": null,
      "metadata": {
        "id": "ztZ82YJP6I7h"
      },
      "outputs": [],
      "source": [
        "#filtrando base INTEIRA entre 20  e 40 anos\n",
        "df_idade = df[(df['C008'] >= 20) & (df['C008'] <= 40)]"
      ]
    },
    {
      "cell_type": "code",
      "execution_count": null,
      "metadata": {
        "id": "b89GnntC6I7h"
      },
      "outputs": [],
      "source": [
        "#filtrando colunas consideradas importantes, dentro do df de depressao\n",
        "\n",
        "df_idade = df_idade[[\n",
        "  # Dimensão: Características do Individuo\n",
        "\n",
        "  'C006', # Sexo\n",
        "  'C008', # Idade do morador na data de referência\n",
        "\n",
        "  # Dimensão: Fatores Sociais e Ambientais\n",
        "\n",
        "  'M01401', # Com quantos familiares ou parentes pode contar em momentos bons ou ruins\n",
        "  'M01501', # Com quantos amigos próximos ___ pode contar em momentos bons ou ruins (Sem considerar os familiares ou parentes\n",
        "  'E01602', #Qual era o rendimento bruto mensal ou retirada que ___ fazia normalmente nesse trabalho?(valor em dinheiro)\n",
        "  #'E01601', #...recebia/fazia normalmente nesse trabalho rendimento/retirada em dinheiro?\n",
        "  #'F001011', #Em (mês da pesquisa) ___ recebia normalmente rendimento de aposentadoria ou pensão de instituto de previdência federal (INSS), estadual, municipal, ou do governo federal, estadual, municipal?\n",
        "  #'F007011', #Em (mês da pesquisa), ___ recebia normalmente rendimento de pensão alimentícia, doação ou mesada em dinheiro de pessoa que não morava no domicílio?\n",
        "  #'F008011', #Em (mês da pesquisa), ___ recebia normalmente rendimento de aluguel ou arrendamento?\n",
        "  'VDF001',  #Em (mês da pesquisa), _______ recebia normalmente algum juro de caderneta de poupança e de outras aplicações financeiras, dividendos, programas sociais, seguro-desemprego, seguro defeso ou outros rendimentos?\n",
        "  #'E01201', Qual era a ocupação (cargo ou função) que ___ tinha nesse trabalho\n",
        "  'E017', # Quantas horas ___ trabalhava normalmente, por semana, nesse trabalho?\n",
        "  'D00901', # Qual foi o curso mais elevado que ___frequentou\n",
        "  'Q092',#***TEM DEPRESSÃO**Algum médico ou profissional de saúde mental (como psiquiatra ou psicólogo) já lhe deu o diagnóstico de depressão?\n",
        "  'A001',#Tipo do domicílio\n",
        "  'A002010',#Qual é o material que predomina na construção das paredes externas deste domicílio?\n",
        "  'A003010',#Material predominante na cobertura (telhado) do domicílio\n",
        "  'A004010',#Qual é o material que predomina no piso deste domicílio\n",
        "  'A01001',# Quantos cômodos têm este domicílio\n",
        "  'J007', #Algum médico já deu o diagnóstico de alguma doença crônica, física ou mental, ou doença de longa duração (de mais de 6 meses de duração)\n",
        "  'Q11006', # Algum médico ou profissional de saúde (como psiquiatra ou psicólogo) já lhe deu o diagnóstico de outra doença mental, como transtorno de ansiedade, síndrome do pânico, esquizofrenia, transtorno bipolar, psicose ou TOC (Transtorno Obsessivo Compulsivo) etc?\n",
        "  'N00101', # Considerando saúde como um estado de bem-estar físico e mental, e não somente a ausência de doenças, como você avalia o seu estado de saúde?\n",
        "\n",
        "  ####Dimensão: Hábitos de Saúde\n",
        "\n",
        "  'P034', # Nos últimos três meses, o(a) Sr(a) praticou algum tipo de exercício físico ou esporte?\n",
        "  'P027', # Com que frequência o(a) Sr(a) costuma consumir alguma bebida alcoólica?\n",
        "  'J01101', # Quando consultou um médico pela última vez\n",
        "  'J014', # Nas duas últimas semanas, procurou algum lugar, serviço ou profissional de saúde para atendimento relacionado à própria saúde\n",
        "  'N010', # Nas duas últimas semanas, com que frequência o(a) Sr(a) teve problemas no sono, como dificuldade para adormecer, acordar frequentemente à noite ou dormir mais do que de costume?\n",
        "  'N011',\n",
        "  'N011',\n",
        "  'N012',\n",
        "  'N013',\n",
        "  'N014',\n",
        "  'N015',\n",
        "  'N016',\n",
        "  'N017',\n",
        "  'N018',\n",
        "  #### Dimensão: Antropometria\n",
        "  'P00102', # O(A) Sr(a) sabe seu peso?\n",
        "  'P00104',\n",
        "  'P00404',\n",
        "  'J001', #ESTADO DE SAUDE\n",
        "  'J00101', #BEM ESTAR FISICO E MENTAL\n",
        "  'J002', #DEIXOU DE REALIZAR ATIVIDADES\n",
        "  #COMIDA E ALIMENTACAO\n",
        "  'P006', 'P00901','P01101','P013','P015','P02001','P01601','P018','P02002','P023',\n",
        "  'P02501','P02602','P02601',\n",
        "\n",
        "  #trabalho\n",
        "  'E001', 'P050'\n",
        "\n",
        "\n",
        "\n",
        "  ]].copy()"
      ]
    },
    {
      "cell_type": "code",
      "execution_count": null,
      "metadata": {
        "id": "JVhHMOUP6I7i",
        "outputId": "17a89e6d-a01b-49dd-ee56-b549024fb71e"
      },
      "outputs": [
        {
          "name": "stdout",
          "output_type": "stream",
          "text": [
            "<class 'pandas.core.frame.DataFrame'>\n",
            "Index: 86995 entries, 2 to 293723\n",
            "Data columns (total 52 columns):\n",
            " #   Column   Non-Null Count  Dtype  \n",
            "---  ------   --------------  -----  \n",
            " 0   C006     86995 non-null  float64\n",
            " 1   C008     86995 non-null  float64\n",
            " 2   M01401   33321 non-null  float64\n",
            " 3   M01501   33321 non-null  float64\n",
            " 4   E01602   59737 non-null  float64\n",
            " 5   VDF001   86995 non-null  float64\n",
            " 6   E017     61133 non-null  float64\n",
            " 7   D00901   73155 non-null  float64\n",
            " 8   Q092     33321 non-null  float64\n",
            " 9   A001     86995 non-null  float64\n",
            " 10  A002010  86995 non-null  float64\n",
            " 11  A003010  86995 non-null  float64\n",
            " 12  A004010  86995 non-null  float64\n",
            " 13  A01001   86995 non-null  float64\n",
            " 14  J007     86995 non-null  float64\n",
            " 15  Q11006   33321 non-null  float64\n",
            " 16  N00101   33321 non-null  float64\n",
            " 17  P034     33321 non-null  float64\n",
            " 18  P027     33321 non-null  float64\n",
            " 19  J01101   86995 non-null  float64\n",
            " 20  J014     86995 non-null  float64\n",
            " 21  N010     33321 non-null  float64\n",
            " 22  N011     33321 non-null  float64\n",
            " 23  N011     33321 non-null  float64\n",
            " 24  N012     33321 non-null  float64\n",
            " 25  N013     33321 non-null  float64\n",
            " 26  N014     33321 non-null  float64\n",
            " 27  N015     33321 non-null  float64\n",
            " 28  N016     33321 non-null  float64\n",
            " 29  N017     33321 non-null  float64\n",
            " 30  N018     33321 non-null  float64\n",
            " 31  P00102   33321 non-null  float64\n",
            " 32  P00104   32574 non-null  float64\n",
            " 33  P00404   32574 non-null  float64\n",
            " 34  J001     86995 non-null  float64\n",
            " 35  J00101   86995 non-null  float64\n",
            " 36  J002     86995 non-null  float64\n",
            " 37  P006     33321 non-null  float64\n",
            " 38  P00901   33321 non-null  float64\n",
            " 39  P01101   33321 non-null  float64\n",
            " 40  P013     33321 non-null  float64\n",
            " 41  P015     33321 non-null  float64\n",
            " 42  P02001   33321 non-null  float64\n",
            " 43  P01601   33321 non-null  float64\n",
            " 44  P018     33321 non-null  float64\n",
            " 45  P02002   33321 non-null  float64\n",
            " 46  P023     33321 non-null  float64\n",
            " 47  P02501   33321 non-null  float64\n",
            " 48  P02602   33321 non-null  float64\n",
            " 49  P02601   33321 non-null  float64\n",
            " 50  E001     86995 non-null  float64\n",
            " 51  P050     33321 non-null  float64\n",
            "dtypes: float64(52)\n",
            "memory usage: 35.2 MB\n"
          ]
        }
      ],
      "source": [
        "df_idade.info()"
      ]
    },
    {
      "cell_type": "markdown",
      "metadata": {
        "id": "SybjZCMU6I7i"
      },
      "source": [
        "### REMOVENDO VALORES VAZIOS"
      ]
    },
    {
      "cell_type": "code",
      "execution_count": null,
      "metadata": {
        "id": "LMVWHDNr6I7j"
      },
      "outputs": [],
      "source": [
        "#REMOVENDO LINHAS ONDE A PERGUNTA DE DEPRESSÃO ESTA NULA\n",
        "df_idade = df_idade[df_idade['Q092'].notna()]\n"
      ]
    },
    {
      "cell_type": "code",
      "execution_count": null,
      "metadata": {
        "id": "de-kTWH86I7j",
        "outputId": "71619ade-3aa1-4079-81b2-854183dd3e6e"
      },
      "outputs": [
        {
          "name": "stdout",
          "output_type": "stream",
          "text": [
            "Total de valores nulos para as colunas com mais de 3000 valores nulos:\n",
            "E01602    9272\n",
            "E017      8867\n",
            "D00901    4561\n",
            "P00104     747\n",
            "P00404     747\n",
            "dtype: int64\n"
          ]
        }
      ],
      "source": [
        "#função para exibir o valor de valores nulos em cada coluna\n",
        "def exibir_colunas_com_valores_nulos(df):\n",
        "\n",
        "    # Calcula o número de valores nulos em cada coluna\n",
        "    valores_nulos_por_coluna = df.isnull().sum()\n",
        "\n",
        "    # Filtra as colunas com mais de 3000 valores nulos\n",
        "    colunas_com_menos_de_700_nulos = valores_nulos_por_coluna[valores_nulos_por_coluna > 700]\n",
        "\n",
        "    # Exibe o total de valores nulos para as colunas que têm mais de 3000 valores nulos\n",
        "    print(\"Total de valores nulos para as colunas com mais de 3000 valores nulos:\")\n",
        "    print(colunas_com_menos_de_700_nulos)\n",
        "\n",
        "exibir_colunas_com_valores_nulos(df_idade)\n"
      ]
    },
    {
      "cell_type": "markdown",
      "metadata": {
        "id": "61LZ0bZ-6I7k"
      },
      "source": [
        "### funcões necessarias"
      ]
    },
    {
      "cell_type": "code",
      "execution_count": null,
      "metadata": {
        "id": "pNHeLvQv6I7k"
      },
      "outputs": [],
      "source": [
        "#FUNÇÃO PARA RECEBER INTERVALOS\n",
        "def definir_bins(*args):\n",
        "\n",
        "    return bins\n",
        "\n",
        "#FUNÇÃO PARA RECEBER OS VALORES DAS COLUNAS\n",
        "def setar_valores_da_lista(*args):\n",
        "\n",
        "    return valores\n",
        "\n",
        "#FUNÇÃO PARA SUBSTITUIR OS REGISTROS DAS COLUNAS E DIMINUIR O TOTAL DO \"value_counts\"\n",
        "def processar_coluna(df, nome_coluna):\n",
        "    df[nome_coluna] = df[nome_coluna].astype(float)\n",
        "    bins = definir_bins()\n",
        "    valores = setar_valores_da_lista()\n",
        "    df[nome_coluna] = pd.cut(df[nome_coluna], bins=bins, labels=valores)\n",
        "    return df\n",
        "\n",
        "\n"
      ]
    },
    {
      "cell_type": "code",
      "execution_count": null,
      "metadata": {
        "id": "6tnKiP0r6I7k"
      },
      "outputs": [],
      "source": [
        "#função para exibir o valor de valores nulos em cada coluna\n",
        "def exibir_valores(df, nome_coluna):\n",
        "\n",
        "    # Calcula o número de valores nulos em cada coluna\n",
        "    registros_salario = df[nome_coluna].value_counts()\n",
        "\n",
        "    # Filtra as colunas com mais de 3000 valores nulos\n",
        "    registros_under_500 = registros_salario[registros_salario > 500]\n",
        "\n",
        "    # Exibe o total de valores nulos para as colunas que têm mais de 3000 valores nulos\n",
        "    print(\"Total de valores nulos para as colunas com mais de 3000 valores nulos:\")\n",
        "    print(registros_under_500)\n",
        "\n",
        "\n"
      ]
    },
    {
      "cell_type": "code",
      "execution_count": null,
      "metadata": {
        "id": "D5a-3XMC6I7k"
      },
      "outputs": [],
      "source": [
        "#FUNÇÃO DE SUBSTITUIÇÃO DE VALORES NULOS\n",
        "def valor_nulo_proporcao(df, nome_coluna):\n",
        "    # Substituindo os valores nulos de acordo com as proporções\n",
        "    null_indices = df[nome_coluna].isnull()\n",
        "    for value, proportion in replacement_values.items():\n",
        "        num_to_replace = int(null_indices.sum() * proportion)\n",
        "        if num_to_replace > 0:\n",
        "            replace_indices = np.random.choice(null_indices.index[null_indices], num_to_replace, replace=False)\n",
        "            df_idade.loc[replace_indices, nome_coluna] = value\n",
        "    return df"
      ]
    },
    {
      "cell_type": "markdown",
      "metadata": {
        "id": "rau69iJB6I7l"
      },
      "source": [
        "#### Removendo duplicatas"
      ]
    },
    {
      "cell_type": "code",
      "execution_count": null,
      "metadata": {
        "id": "oxiGvxMl6I7l",
        "outputId": "8dd03a26-154c-4b07-8fa6-f97e2d109ce4"
      },
      "outputs": [
        {
          "data": {
            "text/plain": [
              "(33319, 52)"
            ]
          },
          "execution_count": 13,
          "metadata": {},
          "output_type": "execute_result"
        }
      ],
      "source": [
        "#Excluindo linhas duplicadas\n",
        "df_idade = df_idade.drop_duplicates(keep=False)\n",
        "\n",
        "df_idade.shape"
      ]
    },
    {
      "cell_type": "markdown",
      "metadata": {
        "id": "1tNe4eLa6I7l"
      },
      "source": [
        "### AJUSTANDO COLUNAs"
      ]
    },
    {
      "cell_type": "code",
      "execution_count": null,
      "metadata": {
        "id": "I2i_6-TD6I7l",
        "outputId": "af15ea4d-3263-4b23-8a4f-abf4ee199e08"
      },
      "outputs": [
        {
          "name": "stdout",
          "output_type": "stream",
          "text": [
            "count    33319.000000\n",
            "mean         5.523485\n",
            "std          1.911523\n",
            "min          1.000000\n",
            "25%          4.000000\n",
            "50%          5.000000\n",
            "75%          6.000000\n",
            "max         30.000000\n",
            "Name: A01001, dtype: float64\n",
            "count    24452.000000\n",
            "mean        38.377556\n",
            "std         12.653084\n",
            "min          1.000000\n",
            "25%         30.000000\n",
            "50%         40.000000\n",
            "75%         44.000000\n",
            "max        120.000000\n",
            "Name: E017, dtype: float64\n",
            "count     24047.000000\n",
            "mean       1955.631596\n",
            "std        2644.977528\n",
            "min          12.000000\n",
            "25%         998.000000\n",
            "50%        1200.000000\n",
            "75%        2000.000000\n",
            "max      120000.000000\n",
            "Name: E01602, dtype: float64\n",
            "count    28758.000000\n",
            "mean         9.632520\n",
            "std          1.975811\n",
            "min          1.000000\n",
            "25%          7.000000\n",
            "50%         10.000000\n",
            "75%         10.000000\n",
            "max         15.000000\n",
            "Name: D00901, dtype: float64\n"
          ]
        }
      ],
      "source": [
        "print(df_idade['A01001'].describe())\n",
        "print(df_idade['E017'].describe())\n",
        "print(df_idade['E01602'].describe())\n",
        "print(df_idade['D00901'].describe())\n"
      ]
    },
    {
      "cell_type": "code",
      "execution_count": null,
      "metadata": {
        "id": "_QBSjZnC6I7l",
        "outputId": "e1e872de-e326-4534-d5d0-548371f0dcc7"
      },
      "outputs": [
        {
          "data": {
            "text/plain": [
              "A01001\n",
              "5.0     10156\n",
              "6.0      6401\n",
              "4.0      5391\n",
              "7.0      3730\n",
              "3.0      2681\n",
              "8.0      2001\n",
              "9.0       926\n",
              "2.0       760\n",
              "10.0      532\n",
              "11.0      239\n",
              "12.0      163\n",
              "1.0       118\n",
              "13.0       84\n",
              "14.0       55\n",
              "15.0       30\n",
              "16.0       17\n",
              "17.0       11\n",
              "18.0        8\n",
              "19.0        6\n",
              "20.0        5\n",
              "21.0        2\n",
              "26.0        1\n",
              "30.0        1\n",
              "22.0        1\n",
              "Name: count, dtype: int64"
            ]
          },
          "execution_count": 15,
          "metadata": {},
          "output_type": "execute_result"
        }
      ],
      "source": [
        "df_idade['A01001'].value_counts()"
      ]
    },
    {
      "cell_type": "code",
      "execution_count": null,
      "metadata": {
        "id": "Qj9nz2_n6I7l",
        "outputId": "dfc9c295-0275-4f3e-dabe-a06a063ccbc0"
      },
      "outputs": [
        {
          "name": "stdout",
          "output_type": "stream",
          "text": [
            "E01602\n",
            "1000     5508\n",
            "800      5211\n",
            "3000     4038\n",
            "2000     3248\n",
            "1500     2939\n",
            "5000     1321\n",
            "10000    1286\n",
            "25000     496\n",
            "Name: count, dtype: int64\n"
          ]
        }
      ],
      "source": [
        "#Testando funções\n",
        "bins = [0, 801, 1199, 1499, 1999, 3000, 4999, 9999, 120000 ] #valores dos intervalors\n",
        "valores = [800, 1000, 1500, 2000, 3000, 5000, 10000, 25000] #novos valores das colunas\n",
        "\n",
        "#Chamando as funções\n",
        "#COLUNA SALARIO\n",
        "processar_coluna(df_idade, 'E01602')\n",
        "definir_bins(bins)\n",
        "setar_valores_da_lista(valores)\n",
        "\n",
        "print(df_idade['E01602'].value_counts())\n"
      ]
    },
    {
      "cell_type": "code",
      "execution_count": null,
      "metadata": {
        "id": "NhPOd9t26I7l",
        "outputId": "28bc2a90-14e3-4423-cfc5-a94bd2089497"
      },
      "outputs": [
        {
          "name": "stdout",
          "output_type": "stream",
          "text": [
            "E017\n",
            "48    10068\n",
            "40     8259\n",
            "20     3259\n",
            "30     2866\n",
            "Name: count, dtype: int64\n"
          ]
        }
      ],
      "source": [
        "#Testando funções\n",
        "bins = [0, 20, 30, 40, 120 ] #valores dos intervalors\n",
        "valores = [20, 30, 40, 48] #novos valores das colunas\n",
        "\n",
        "#HORAS TRABALHADAS\n",
        "#Chamando as funções\n",
        "processar_coluna(df_idade, 'E017')\n",
        "definir_bins(bins)\n",
        "setar_valores_da_lista(valores)\n",
        "\n",
        "print(df_idade['E017'].value_counts())\n"
      ]
    },
    {
      "cell_type": "code",
      "execution_count": null,
      "metadata": {
        "id": "gRVc57Mj6I7m",
        "outputId": "15b3146a-f5b3-4826-b05f-525720df1d8f"
      },
      "outputs": [
        {
          "name": "stdout",
          "output_type": "stream",
          "text": [
            "D00901\n",
            "10    14255\n",
            "7      8287\n",
            "12     6216\n",
            "Name: count, dtype: int64\n"
          ]
        }
      ],
      "source": [
        "#Testando funções\n",
        "bins = [0, 8, 11, 15 ] #valores dos intervalors\n",
        "valores = [7, 10, 12] #novos valores das colunas\n",
        "\n",
        " #COLUNA ESCOLARIDADE\n",
        "#Chamando as funções\n",
        "processar_coluna(df_idade, 'D00901')\n",
        "definir_bins(bins)\n",
        "setar_valores_da_lista(valores)\n",
        "\n",
        "print(df_idade['D00901'].value_counts())\n"
      ]
    },
    {
      "cell_type": "code",
      "execution_count": null,
      "metadata": {
        "id": "thl1L8vs6I7m",
        "outputId": "61b37de9-f8e6-4ddf-eebc-bfc1f5e25424"
      },
      "outputs": [
        {
          "name": "stdout",
          "output_type": "stream",
          "text": [
            "A01001\n",
            "5     10156\n",
            "4      8950\n",
            "6      6401\n",
            "7      3730\n",
            "8      2001\n",
            "10     1155\n",
            "9       926\n",
            "Name: count, dtype: int64\n"
          ]
        }
      ],
      "source": [
        "#Testando funções\n",
        "bins = [0, 4, 5, 6, 7, 8, 9, 30] #valores dos intervalors\n",
        "valores = [4,5,6,7,8,9,10] #novos valores das colunas\n",
        "\n",
        " #COLUNA ESCOLARIDADE\n",
        "#Chamando as funções\n",
        "processar_coluna(df_idade, 'A01001')\n",
        "definir_bins(bins)\n",
        "setar_valores_da_lista(valores)\n",
        "\n",
        "print(df_idade['A01001'].value_counts())\n"
      ]
    },
    {
      "cell_type": "markdown",
      "metadata": {
        "id": "pbF5Mo6U6I7m"
      },
      "source": [
        "#### Tratando valores nulos"
      ]
    },
    {
      "cell_type": "code",
      "execution_count": null,
      "metadata": {
        "id": "_RsUkiny6I7m",
        "outputId": "e26ecfe4-574a-4ef4-fe4e-57d294931633"
      },
      "outputs": [
        {
          "name": "stdout",
          "output_type": "stream",
          "text": [
            "D00901\n",
            "10    14255\n",
            "7      9924\n",
            "12     8040\n",
            "Name: count, dtype: int64\n"
          ]
        }
      ],
      "source": [
        "# Definindo os valores de substituição e suas proporções\n",
        "#COLUNA ESCOLARIDADE\n",
        "replacement_values = {7: 0.6, 12: 0.4}\n",
        "\n",
        "valor_nulo_proporcao(df_idade, 'D00901')\n",
        "\n",
        "print(df_idade['D00901'].value_counts())"
      ]
    },
    {
      "cell_type": "code",
      "execution_count": null,
      "metadata": {
        "id": "OjOnsKqG6I7m"
      },
      "outputs": [],
      "source": [
        "#Substituindo valores vazios na coluna de escolaridade\n",
        "df_idade.loc[df_idade['D00901'].isnull(), 'D00901'] = 7"
      ]
    },
    {
      "cell_type": "code",
      "execution_count": null,
      "metadata": {
        "id": "qRKldXZD6I7m",
        "outputId": "7cbd7102-3f67-4ea3-ff87-5064563f50b9"
      },
      "outputs": [
        {
          "name": "stdout",
          "output_type": "stream",
          "text": [
            "Total de valores nulos para as colunas com mais de 3000 valores nulos:\n",
            "E01602    9272\n",
            "E017      8867\n",
            "P00104     747\n",
            "P00404     747\n",
            "dtype: int64\n"
          ]
        }
      ],
      "source": [
        "exibir_colunas_com_valores_nulos(df_idade)"
      ]
    },
    {
      "cell_type": "code",
      "execution_count": null,
      "metadata": {
        "id": "lTaH9maF6I7n",
        "outputId": "d87d169e-df26-4396-f529-254feadbae26"
      },
      "outputs": [
        {
          "data": {
            "text/plain": [
              "E01602\n",
              "1000     5508\n",
              "800      5211\n",
              "3000     4038\n",
              "2000     3248\n",
              "1500     2939\n",
              "5000     1321\n",
              "10000    1286\n",
              "25000     496\n",
              "Name: count, dtype: int64"
            ]
          },
          "execution_count": 23,
          "metadata": {},
          "output_type": "execute_result"
        }
      ],
      "source": [
        "df_idade['E01602'].value_counts()"
      ]
    },
    {
      "cell_type": "code",
      "execution_count": null,
      "metadata": {
        "id": "J0sc3yZE6I7n",
        "outputId": "fe0f6fd4-5f1f-45ae-bafb-7a95d0f9f2be"
      },
      "outputs": [
        {
          "name": "stdout",
          "output_type": "stream",
          "text": [
            "E01602\n",
            "800      6399\n",
            "1000     6376\n",
            "3000     5305\n",
            "2000     4841\n",
            "1500     4237\n",
            "5000     1321\n",
            "10000    1286\n",
            "25000     496\n",
            "Name: count, dtype: int64\n",
            "Total de valores nulos para as colunas com mais de 3000 valores nulos:\n",
            "E01602    3058\n",
            "E017      8867\n",
            "P00104     747\n",
            "P00404     747\n",
            "dtype: int64\n"
          ]
        }
      ],
      "source": [
        "# Definindo os valores de substituição e suas proporções\n",
        "#COLUNA SALARIO\n",
        "replacement_values = {1000: 0.23, 800: 0.23, 3000: 0.2, 2000: 0.2, 1500: 0.14}\n",
        "\n",
        "valor_nulo_proporcao(df_idade, 'E01602')\n",
        "\n",
        "print(df_idade['E01602'].value_counts())\n",
        "\n",
        "exibir_colunas_com_valores_nulos(df_idade)"
      ]
    },
    {
      "cell_type": "code",
      "execution_count": null,
      "metadata": {
        "id": "UfQ8tasj6I7n",
        "outputId": "28fe518e-88c9-4878-b119-f612ee40497c"
      },
      "outputs": [
        {
          "name": "stdout",
          "output_type": "stream",
          "text": [
            "E017\n",
            "48    11729\n",
            "40     9513\n",
            "20     4677\n",
            "30     4639\n",
            "Name: count, dtype: int64\n",
            "Total de valores nulos para as colunas com mais de 3000 valores nulos:\n",
            "E01602    3058\n",
            "E017      2761\n",
            "P00104     747\n",
            "P00404     747\n",
            "dtype: int64\n"
          ]
        }
      ],
      "source": [
        "# Definindo os valores de substituição e suas proporções\n",
        "#COLUNA HORAS TRABALHADAS\n",
        "replacement_values = {40: 0.3, 48: 0.3, 20: 0.2, 30: 0.2}\n",
        "\n",
        "valor_nulo_proporcao(df_idade, 'E017')\n",
        "\n",
        "print(df_idade['E017'].value_counts())\n",
        "\n",
        "exibir_colunas_com_valores_nulos(df_idade)"
      ]
    },
    {
      "cell_type": "markdown",
      "metadata": {
        "id": "MaXB4wlf6I7n"
      },
      "source": [
        "### CRIANDO COLUNA IMC\n"
      ]
    },
    {
      "cell_type": "code",
      "execution_count": null,
      "metadata": {
        "id": "tL3CgEab6I7n",
        "outputId": "83dcb866-a2e7-4d07-bff6-519df937997f"
      },
      "outputs": [
        {
          "name": "stdout",
          "output_type": "stream",
          "text": [
            "19        17.755682\n",
            "26        24.654832\n",
            "29        27.041644\n",
            "34        27.041644\n",
            "41        20.438166\n",
            "            ...    \n",
            "293682    20.199470\n",
            "293685    22.720438\n",
            "293702    33.333333\n",
            "293713    32.744928\n",
            "293720    17.921147\n",
            "Name: IMC, Length: 33319, dtype: float64\n"
          ]
        }
      ],
      "source": [
        "#calculando\n",
        "df_idade['P00404'] = df_idade['P00404']/100\n",
        "df_idade['IMC'] = df_idade['P00104']/(df_idade['P00404'] * df_idade['P00404'])\n",
        "\n",
        "print(df_idade['IMC'])"
      ]
    },
    {
      "cell_type": "code",
      "execution_count": null,
      "metadata": {
        "id": "MBlUN8FB6I7n",
        "outputId": "037c874e-e1e2-47a0-fc59-cf196780be20"
      },
      "outputs": [
        {
          "data": {
            "text/plain": [
              "count    32572.000000\n",
              "mean        26.212748\n",
              "std          4.828794\n",
              "min         12.908315\n",
              "25%         22.862534\n",
              "50%         25.529645\n",
              "75%         28.888889\n",
              "max         56.191467\n",
              "Name: IMC, dtype: float64"
            ]
          },
          "execution_count": 27,
          "metadata": {},
          "output_type": "execute_result"
        }
      ],
      "source": [
        "df_idade['IMC'].describe()"
      ]
    },
    {
      "cell_type": "code",
      "execution_count": null,
      "metadata": {
        "id": "82uzK13J6I7o",
        "outputId": "5dfd68be-6532-4199-b53d-ac1093d773e7"
      },
      "outputs": [
        {
          "name": "stdout",
          "output_type": "stream",
          "text": [
            "IMC\n",
            "24    13664\n",
            "29    11843\n",
            "34     4646\n",
            "39     1302\n",
            "18      709\n",
            "45      408\n",
            "Name: count, dtype: int64\n"
          ]
        }
      ],
      "source": [
        "#Testando funções\n",
        "bins = [0, 18.5, 24.9, 29.9, 34.9, 39.9,  57] #valores dos intervalors\n",
        "valores = [18, 24, 29, 34, 39, 45] #novos valores das colunas\n",
        "\n",
        " #COLUNA iMC\n",
        "#Chamando as funções\n",
        "processar_coluna(df_idade, 'IMC')\n",
        "definir_bins(bins)\n",
        "setar_valores_da_lista(valores)\n",
        "\n",
        "print(df_idade['IMC'].value_counts())"
      ]
    },
    {
      "cell_type": "code",
      "execution_count": null,
      "metadata": {
        "id": "NfQS7brJ6I7o",
        "outputId": "32270be5-1171-4603-dd81-e945aae38871"
      },
      "outputs": [
        {
          "name": "stdout",
          "output_type": "stream",
          "text": [
            "IMC\n",
            "24    13664\n",
            "29    11843\n",
            "34     4751\n",
            "39     1444\n",
            "18      835\n",
            "45      557\n",
            "Name: count, dtype: int64\n",
            "Total de valores nulos para as colunas com mais de 3000 valores nulos:\n",
            "E01602    3058\n",
            "E017      2761\n",
            "P00104     747\n",
            "P00404     747\n",
            "dtype: int64\n"
          ]
        }
      ],
      "source": [
        "# Definindo os valores de substituição e suas proporções\n",
        "#COLUNA IMC\n",
        "replacement_values = {34: 0.3, 39: 0.3, 18: 0.2, 45: 0.2}\n",
        "\n",
        "valor_nulo_proporcao(df_idade, 'IMC')\n",
        "\n",
        "print(df_idade['IMC'].value_counts())\n",
        "\n",
        "exibir_colunas_com_valores_nulos(df_idade)"
      ]
    },
    {
      "cell_type": "markdown",
      "metadata": {
        "id": "uQeqvhjb6I7o"
      },
      "source": [
        "##### EXCLUINDO COLUNAS PESO E ALTURA, JA TEMOS O IMC"
      ]
    },
    {
      "cell_type": "code",
      "execution_count": null,
      "metadata": {
        "id": "uxH0gwbf6I7o",
        "outputId": "e51d9ee7-22ad-48ea-91c6-aad3af6f6c63"
      },
      "outputs": [
        {
          "data": {
            "text/plain": [
              "(33319, 53)"
            ]
          },
          "execution_count": 30,
          "metadata": {},
          "output_type": "execute_result"
        }
      ],
      "source": [
        "df_idade.shape"
      ]
    },
    {
      "cell_type": "code",
      "execution_count": null,
      "metadata": {
        "id": "H6TGwmao6I7o",
        "outputId": "912cbb86-659b-4d49-b750-7b8255bb5534"
      },
      "outputs": [
        {
          "data": {
            "text/plain": [
              "(33319, 51)"
            ]
          },
          "execution_count": 31,
          "metadata": {},
          "output_type": "execute_result"
        }
      ],
      "source": [
        "df_idade.drop(columns=['P00104'], inplace=True)\n",
        "df_idade.drop(columns=['P00404'], inplace=True)\n",
        "\n",
        "df_idade.shape"
      ]
    },
    {
      "cell_type": "markdown",
      "metadata": {
        "id": "VUcSM58Y6I7o"
      },
      "source": [
        "#### REMOVENDO LINHAS COM REGISTROS VAZIOS"
      ]
    },
    {
      "cell_type": "code",
      "execution_count": null,
      "metadata": {
        "id": "DSPKLVpc6I7t"
      },
      "outputs": [],
      "source": [
        "df_idade.dropna(axis=0, inplace=True)"
      ]
    },
    {
      "cell_type": "code",
      "execution_count": null,
      "metadata": {
        "id": "OTa5FopW6I7t",
        "outputId": "b8735d94-fa43-4e17-8a8f-4db0f824eafb"
      },
      "outputs": [
        {
          "data": {
            "text/plain": [
              "(28252, 51)"
            ]
          },
          "execution_count": 33,
          "metadata": {},
          "output_type": "execute_result"
        }
      ],
      "source": [
        "df_idade.shape"
      ]
    },
    {
      "cell_type": "code",
      "execution_count": null,
      "metadata": {
        "id": "O_w0SUIc6I7t",
        "outputId": "331adcf5-194e-423e-ade5-f472c22277f2"
      },
      "outputs": [
        {
          "name": "stdout",
          "output_type": "stream",
          "text": [
            "Total de valores nulos para as colunas com mais de 3000 valores nulos:\n",
            "Series([], dtype: int64)\n"
          ]
        }
      ],
      "source": [
        "exibir_colunas_com_valores_nulos(df_idade)"
      ]
    },
    {
      "cell_type": "markdown",
      "metadata": {
        "id": "h4DKBMDJ6I7t"
      },
      "source": [
        "### Balanceamento da base"
      ]
    },
    {
      "cell_type": "code",
      "execution_count": null,
      "metadata": {
        "id": "2rJTAeJo6I7t"
      },
      "outputs": [],
      "source": [
        "#Separando  por X e Y\n",
        "X = df_idade.drop('Q092', axis=1)\n",
        "y = df_idade['Q092']"
      ]
    },
    {
      "cell_type": "code",
      "execution_count": null,
      "metadata": {
        "id": "gUG4D8U86I7t",
        "outputId": "40c24670-516e-4757-a476-4bd1d7e43eb2"
      },
      "outputs": [
        {
          "data": {
            "text/plain": [
              "<Axes: ylabel='count'>"
            ]
          },
          "execution_count": 36,
          "metadata": {},
          "output_type": "execute_result"
        },
        {
          "data": {
            "image/png": "[encoded data removed]",
            "text/plain": [
              "<Figure size 640x480 with 1 Axes>"
            ]
          },
          "metadata": {},
          "output_type": "display_data"
        }
      ],
      "source": [
        "#Verificando proporção da base\n",
        "y.value_counts().plot.pie(autopct='%.2f')"
      ]
    },
    {
      "cell_type": "code",
      "execution_count": null,
      "metadata": {
        "id": "xkkO_5HM6I7u",
        "outputId": "48505fcd-a75d-4a72-ab05-c4bd6faa22bc"
      },
      "outputs": [
        {
          "data": {
            "text/plain": [
              "Q092\n",
              "2.0    93.589834\n",
              "1.0     6.410166\n",
              "Name: count, dtype: float64"
            ]
          },
          "execution_count": 37,
          "metadata": {},
          "output_type": "execute_result"
        }
      ],
      "source": [
        "#Proporção\n",
        "y.value_counts()/y.shape[0]*100"
      ]
    },
    {
      "cell_type": "code",
      "execution_count": null,
      "metadata": {
        "id": "05gExPzj6I7u"
      },
      "outputs": [],
      "source": [
        "#Separando por modelo de treino e teste\n",
        "from sklearn.model_selection import train_test_split\n",
        "X_train, X_test, y_train, y_test = train_test_split(X, y, test_size=0.33,\n",
        "                                                    random_state=42, stratify=y)"
      ]
    },
    {
      "cell_type": "code",
      "execution_count": null,
      "metadata": {
        "id": "2IbD5lKO6I7u",
        "outputId": "e6bc7679-14fc-454f-9829-f36b1f38171e"
      },
      "outputs": [
        {
          "data": {
            "text/plain": [
              "Q092\n",
              "2.0    93.591505\n",
              "1.0     6.408495\n",
              "Name: count, dtype: float64"
            ]
          },
          "execution_count": 39,
          "metadata": {},
          "output_type": "execute_result"
        }
      ],
      "source": [
        "#verificando proporção do treino\n",
        "y_train.value_counts()/y_train.shape[0]*100"
      ]
    },
    {
      "cell_type": "code",
      "execution_count": null,
      "metadata": {
        "id": "xQHatxck6I7u",
        "outputId": "8b2d6bfb-b275-41ca-9fb4-1dd4b1da230e"
      },
      "outputs": [
        {
          "data": {
            "text/plain": [
              "Q092\n",
              "2.0    93.586444\n",
              "1.0     6.413556\n",
              "Name: count, dtype: float64"
            ]
          },
          "execution_count": 40,
          "metadata": {},
          "output_type": "execute_result"
        }
      ],
      "source": [
        "#verificando proporção do teste\n",
        "y_test.value_counts()/y_test.shape[0]*100"
      ]
    },
    {
      "cell_type": "markdown",
      "metadata": {
        "id": "VfHwq0Ra6I7v"
      },
      "source": [
        "#### RESULTADOS ANTES DO BALANCEAMENTO"
      ]
    },
    {
      "cell_type": "code",
      "execution_count": null,
      "metadata": {
        "id": "NCxQs1fC6I7v"
      },
      "outputs": [],
      "source": [
        "#testando modelo antes do balanceamento\n",
        "#Iremos comparar o precision e o recall antes e depois do balanceamento, para sabermos se deu certo\n",
        "#importando modelo}\n",
        "from sklearn.tree import DecisionTreeClassifier\n",
        "#defininfo classificador\n",
        "clf = DecisionTreeClassifier(random_state=0)\n",
        "#Fazendo Fit com os dados\n",
        "clf = clf.fit(X_train, y_train)"
      ]
    },
    {
      "cell_type": "code",
      "execution_count": null,
      "metadata": {
        "id": "5L6u-ifG6I7v"
      },
      "outputs": [],
      "source": [
        "#prev do resultado\n",
        "y_pred = clf.predict(X_test)"
      ]
    },
    {
      "cell_type": "code",
      "execution_count": null,
      "metadata": {
        "id": "C07HWIrA6I7v",
        "outputId": "afbde994-fcde-4a9a-8641-b2d7ebfefeba"
      },
      "outputs": [
        {
          "data": {
            "text/plain": [
              "0.31486880466472306"
            ]
          },
          "execution_count": 43,
          "metadata": {},
          "output_type": "execute_result"
        }
      ],
      "source": [
        "from sklearn.metrics import precision_score\n",
        "precision_score(y_test,y_pred)"
      ]
    },
    {
      "cell_type": "code",
      "execution_count": null,
      "metadata": {
        "id": "nPgg5BJP6I7w",
        "outputId": "ee5fcd56-faf0-4e5d-e90d-804ea4dae3c0"
      },
      "outputs": [
        {
          "data": {
            "text/plain": [
              "0.3612040133779264"
            ]
          },
          "execution_count": 44,
          "metadata": {},
          "output_type": "execute_result"
        }
      ],
      "source": [
        "from sklearn.metrics import recall_score\n",
        "#verificando recall\n",
        "recall_score(y_test,y_pred)"
      ]
    },
    {
      "cell_type": "code",
      "execution_count": null,
      "metadata": {
        "id": "Ws6mntlH6I7w",
        "outputId": "1aa3933e-c3f8-47c9-894f-d2a17e878620"
      },
      "outputs": [
        {
          "data": {
            "text/plain": [
              "array([[ 216,  382],\n",
              "       [ 470, 8256]], dtype=int64)"
            ]
          },
          "execution_count": 45,
          "metadata": {},
          "output_type": "execute_result"
        }
      ],
      "source": [
        "from sklearn.metrics import confusion_matrix\n",
        "#gerando matriz de confusão\n",
        "confusion_matrix(y_test,y_pred)"
      ]
    },
    {
      "cell_type": "markdown",
      "metadata": {
        "id": "9uQFt6Km6I7w"
      },
      "source": [
        "#### RESULTADOS APOS BALANCEAMENTO"
      ]
    },
    {
      "cell_type": "code",
      "execution_count": null,
      "metadata": {
        "id": "mJ4NHME16I7w"
      },
      "outputs": [],
      "source": [
        "#Importando random UnderSampler\n",
        "from imblearn.under_sampling import RandomUnderSampler"
      ]
    },
    {
      "cell_type": "code",
      "execution_count": null,
      "metadata": {
        "id": "zBcUdUo56I7x"
      },
      "outputs": [],
      "source": [
        "#definindo o Random UnderSampler\n",
        "rus = RandomUnderSampler(random_state=42)"
      ]
    },
    {
      "cell_type": "code",
      "execution_count": null,
      "metadata": {
        "id": "QGAIcuoG6I7x"
      },
      "outputs": [],
      "source": [
        "#aplicando pra x e y (ambos de treino, sempre de treino)\n",
        "X_res, y_res = rus.fit_resample(X_train, y_train)"
      ]
    },
    {
      "cell_type": "code",
      "execution_count": null,
      "metadata": {
        "id": "9pX3IjpO6I7x",
        "outputId": "4e39aece-7c0a-4aa8-c86c-5bad7d14c858"
      },
      "outputs": [
        {
          "data": {
            "text/plain": [
              "<Axes: ylabel='count'>"
            ]
          },
          "execution_count": 49,
          "metadata": {},
          "output_type": "execute_result"
        },
        {
          "data": {
            "image/png": "[encoded data removed]",
            "text/plain": [
              "<Figure size 640x480 with 1 Axes>"
            ]
          },
          "metadata": {},
          "output_type": "display_data"
        }
      ],
      "source": [
        "#Visualizando graficamente o balanceamento\n",
        "y_res.value_counts().plot.pie(autopct='%.2f')"
      ]
    },
    {
      "cell_type": "code",
      "execution_count": null,
      "metadata": {
        "id": "69W9LvUc6I7x",
        "outputId": "c5be8487-d8a9-459a-96c1-8f4abda6c963"
      },
      "outputs": [
        {
          "data": {
            "text/plain": [
              "Q092\n",
              "1.0    1213\n",
              "2.0    1213\n",
              "Name: count, dtype: int64"
            ]
          },
          "execution_count": 50,
          "metadata": {},
          "output_type": "execute_result"
        }
      ],
      "source": [
        "#Visualizando numericamente\n",
        "y_res.value_counts()"
      ]
    },
    {
      "cell_type": "code",
      "execution_count": null,
      "metadata": {
        "id": "EMyZG-P66I7x"
      },
      "outputs": [],
      "source": [
        "#defininfo classificador\n",
        "clfAD = DecisionTreeClassifier(random_state=0, criterion='gini')\n",
        "\n",
        "#Fazendo Fit com os dados\n",
        "clfAD = clfAD.fit(X_res, y_res)\n",
        "\n",
        "#prev do resultado\n",
        "Y_predAD = clfAD.predict(X_test)"
      ]
    },
    {
      "cell_type": "code",
      "execution_count": null,
      "metadata": {
        "id": "LEWTvB4C6I7x",
        "outputId": "3f4c68bb-3134-4877-df71-e86c78c36341"
      },
      "outputs": [
        {
          "name": "stdout",
          "output_type": "stream",
          "text": [
            "Acurácia do modelo de Arvore de decisão: 0.7895752895752896\n"
          ]
        }
      ],
      "source": [
        "from sklearn.metrics import accuracy_score\n",
        "accuracyAD = accuracy_score(y_test, Y_predAD)\n",
        "\n",
        "print(\"Acurácia do modelo de Arvore de decisão:\", accuracyAD)"
      ]
    },
    {
      "cell_type": "code",
      "execution_count": null,
      "metadata": {
        "id": "6LJVYL-E6I7y",
        "outputId": "875b01d8-0b6a-4af6-ddfc-e3dfd82875cb"
      },
      "outputs": [
        {
          "data": {
            "text/plain": [
              "0.2029616724738676"
            ]
          },
          "execution_count": 53,
          "metadata": {},
          "output_type": "execute_result"
        }
      ],
      "source": [
        "from sklearn.metrics import precision_score\n",
        "precision_score(y_test,Y_predAD)"
      ]
    },
    {
      "cell_type": "code",
      "execution_count": null,
      "metadata": {
        "id": "l8NQeyql6I7y",
        "outputId": "d99e29da-6177-4961-d88b-2ea555cbd601"
      },
      "outputs": [
        {
          "data": {
            "text/plain": [
              "0.7792642140468228"
            ]
          },
          "execution_count": 54,
          "metadata": {},
          "output_type": "execute_result"
        }
      ],
      "source": [
        "from sklearn.metrics import recall_score\n",
        "#verificando recall\n",
        "recall_score(y_test,Y_predAD)"
      ]
    },
    {
      "cell_type": "markdown",
      "metadata": {
        "id": "VmIZlyF46I7y"
      },
      "source": [
        "## RANDOM FOREST"
      ]
    },
    {
      "cell_type": "code",
      "execution_count": null,
      "metadata": {
        "id": "fwUjqj-v6I7y",
        "outputId": "b910385c-2271-4ef1-ad90-f276de5afa5b"
      },
      "outputs": [
        {
          "name": "stdout",
          "output_type": "stream",
          "text": [
            "Acurácia do modelo de Random Forest: 0.8036250536250537\n"
          ]
        }
      ],
      "source": [
        "from sklearn.model_selection import train_test_split\n",
        "from sklearn.ensemble import RandomForestClassifier\n",
        "\n",
        "\n",
        "# Criando o modelo de Random Forest com os parâmetros especificados\n",
        "rf_model = RandomForestClassifier(n_estimators=100, max_depth=10, random_state=42)\n",
        "\n",
        "# Treinando o modelo\n",
        "rf_model.fit(X_res, y_res)\n",
        "\n",
        "# Fazendo previsões\n",
        "y_predRF = rf_model.predict(X_test)\n",
        "\n",
        "# Avaliando a acurácia do modelo\n",
        "accuracy = accuracy_score(y_test, y_predRF)\n",
        "print(\"Acurácia do modelo de Random Forest:\", accuracy)"
      ]
    },
    {
      "cell_type": "code",
      "execution_count": null,
      "metadata": {
        "id": "h_40n3wH6I7y",
        "outputId": "8f4b8aca-10b1-4083-bc42-dc8b811f3fbf"
      },
      "outputs": [
        {
          "data": {
            "text/plain": [
              "0.23506660936828536"
            ]
          },
          "execution_count": 56,
          "metadata": {},
          "output_type": "execute_result"
        }
      ],
      "source": [
        "precision_score(y_test,y_predRF)\n"
      ]
    },
    {
      "cell_type": "code",
      "execution_count": null,
      "metadata": {
        "id": "K1hnddwF6I7y",
        "outputId": "18da816b-b1bc-4a56-9341-2dd50138341c"
      },
      "outputs": [
        {
          "data": {
            "text/plain": [
              "0.9147157190635451"
            ]
          },
          "execution_count": 57,
          "metadata": {},
          "output_type": "execute_result"
        }
      ],
      "source": [
        "#verificando recall\n",
        "recall_score(y_test,y_predRF)"
      ]
    },
    {
      "cell_type": "code",
      "execution_count": null,
      "metadata": {
        "id": "EuJXHsw06I7z"
      },
      "outputs": [],
      "source": []
    }
  ],
  "metadata": {
    "kernelspec": {
      "display_name": "base",
      "language": "python",
      "name": "python3"
    },
    "language_info": {
      "codemirror_mode": {
        "name": "ipython",
        "version": 3
      },
      "file_extension": ".py",
      "mimetype": "text/x-python",
      "name": "python",
      "nbconvert_exporter": "python",
      "pygments_lexer": "ipython3",
      "version": "3.11.5"
    },
    "colab": {
      "provenance": [],
      "toc_visible": true
    }
  },
  "nbformat": 4,
  "nbformat_minor": 0
}